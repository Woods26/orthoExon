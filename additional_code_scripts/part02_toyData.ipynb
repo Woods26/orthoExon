{
 "cells": [
  {
   "cell_type": "code",
   "execution_count": 1,
   "metadata": {
    "collapsed": true
   },
   "outputs": [],
   "source": [
    "import pandas as pd\n",
    "import os\n",
    "import multiprocessing as mp\n",
    "import shutil\n",
    "import subprocess"
   ]
  },
  {
   "cell_type": "code",
   "execution_count": 2,
   "metadata": {
    "collapsed": true
   },
   "outputs": [],
   "source": [
    "chosen_ortho = {\"orth10136_1834-2121\",\n",
    "                \"orth10181_1434-1584\",\n",
    "                \"orth10223_1638-1932\",\n",
    "                \"orth10262_574-1105\",\n",
    "                \"orth10297_2517-2710\",\n",
    "                \"orth10315_1281-1727\",\n",
    "                \"orth10362_263-601\",\n",
    "                \"orth10375_1062-1241\",\n",
    "                \"orth10395_1616-1808\",\n",
    "                \"orth10410_543-761\"}\n",
    "\n",
    "unchosen_ortho = {\"orth10262_1395-1632\",\n",
    "                  \"orth10339_505-906\",\n",
    "                  \"orth10375_1291-1484\",\n",
    "                  \"orth10394_1043-1328\",\n",
    "                  \"orth10410_311-493\",\n",
    "                  \"orth10425_453-875\",\n",
    "                  \"orth2374_1109-1760\",\n",
    "                  \"orth2652_1294-1523\",\n",
    "                  \"orth2652_1938-2132\",\n",
    "                  \"orth2782_175-1267\"}"
   ]
  },
  {
   "cell_type": "code",
   "execution_count": 3,
   "metadata": {
    "collapsed": false
   },
   "outputs": [],
   "source": [
    "in_ortho = {name.split('.')[0].strip() for name in os.listdir(\"orthoExon_fasta.bak/\")}"
   ]
  },
  {
   "cell_type": "code",
   "execution_count": 4,
   "metadata": {
    "collapsed": false
   },
   "outputs": [],
   "source": [
    "out_ortho = {orth for orth in pd.read_csv(\"../output/summary.csv\")[\"loci_id\"].unique()}"
   ]
  },
  {
   "cell_type": "code",
   "execution_count": 5,
   "metadata": {
    "collapsed": false
   },
   "outputs": [],
   "source": [
    "unchosen_ortho = unchosen_ortho & out_ortho"
   ]
  },
  {
   "cell_type": "code",
   "execution_count": 6,
   "metadata": {
    "collapsed": false
   },
   "outputs": [],
   "source": [
    "chosen_ortho = chosen_ortho & out_ortho"
   ]
  },
  {
   "cell_type": "code",
   "execution_count": 7,
   "metadata": {
    "collapsed": false
   },
   "outputs": [
    {
     "data": {
      "text/plain": [
       "{'orth10136_1834-2121',\n",
       " 'orth10223_1638-1932',\n",
       " 'orth10262_1395-1632',\n",
       " 'orth10262_574-1105',\n",
       " 'orth10297_2517-2710',\n",
       " 'orth10315_1281-1727',\n",
       " 'orth10339_505-906',\n",
       " 'orth10362_263-601',\n",
       " 'orth10375_1062-1241',\n",
       " 'orth10375_1291-1484',\n",
       " 'orth10394_1043-1328',\n",
       " 'orth10395_1616-1808',\n",
       " 'orth10410_311-493',\n",
       " 'orth10410_543-761',\n",
       " 'orth10425_453-875',\n",
       " 'orth2374_1109-1760',\n",
       " 'orth2652_1294-1523',\n",
       " 'orth2652_1938-2132',\n",
       " 'orth2782_175-1267'}"
      ]
     },
     "execution_count": 7,
     "metadata": {},
     "output_type": "execute_result"
    }
   ],
   "source": [
    "toy = unchosen_ortho | chosen_ortho\n",
    "toy"
   ]
  },
  {
   "cell_type": "code",
   "execution_count": 8,
   "metadata": {
    "collapsed": false
   },
   "outputs": [],
   "source": [
    "toy_fasta = [(\"orthoExon_fasta.bak/\" + e + \".full.fasta\", \"orthoExon_fasta/\" + e + \".full.fasta\") for e in toy]"
   ]
  },
  {
   "cell_type": "code",
   "execution_count": 9,
   "metadata": {
    "collapsed": false
   },
   "outputs": [],
   "source": [
    "shutil.rmtree(\"orthoExon_fasta\", ignore_errors=True)\n",
    "os.makedirs(\"orthoExon_fasta\", exist_ok=True)\n",
    "for f,t in toy_fasta:\n",
    "    shutil.copyfile(f,t)"
   ]
  },
  {
   "cell_type": "code",
   "execution_count": 10,
   "metadata": {
    "collapsed": false
   },
   "outputs": [],
   "source": [
    "with open(\"PGC106.selectedAmp.tab.bak\", \"r\") as f:\n",
    "    lines = f.readlines()\n",
    "header = lines[0]\n",
    "lines = {line.strip().split()[1]:line for line in lines[1:]}"
   ]
  },
  {
   "cell_type": "code",
   "execution_count": 11,
   "metadata": {
    "collapsed": false
   },
   "outputs": [],
   "source": [
    "os.remove(\"PGC106.selectedAmp.tab\")\n",
    "with open(\"PGC106.selectedAmp.tab\", \"wt\") as f:\n",
    "    f.write(header)\n",
    "    for orth in toy:\n",
    "        if orth in lines.keys():\n",
    "            f.write(lines[orth])\n",
    "        else:\n",
    "            print(orth)"
   ]
  },
  {
   "cell_type": "code",
   "execution_count": null,
   "metadata": {
    "collapsed": true
   },
   "outputs": [],
   "source": []
  }
 ],
 "metadata": {
  "kernelspec": {
   "display_name": "Python 3",
   "language": "python",
   "name": "python3"
  },
  "language_info": {
   "codemirror_mode": {
    "name": "ipython",
    "version": 3
   },
   "file_extension": ".py",
   "mimetype": "text/x-python",
   "name": "python",
   "nbconvert_exporter": "python",
   "pygments_lexer": "ipython3",
   "version": "3.5.2"
  }
 },
 "nbformat": 4,
 "nbformat_minor": 2
}
