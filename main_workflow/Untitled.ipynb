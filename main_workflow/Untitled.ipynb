{
 "cells": [
  {
   "cell_type": "code",
   "execution_count": null,
   "metadata": {
    "collapsed": false
   },
   "outputs": [],
   "source": [
    "%run 1)_parent_groups_json.py\n",
    "%ls ../intermediate/json/"
   ]
  },
  {
   "cell_type": "code",
   "execution_count": null,
   "metadata": {
    "collapsed": false
   },
   "outputs": [],
   "source": [
    "%run 2)_orthoFasta_4spp.py\n",
    "%ls ../intermediate/4spp_alignment/"
   ]
  },
  {
   "cell_type": "code",
   "execution_count": null,
   "metadata": {
    "collapsed": true
   },
   "outputs": [],
   "source": [
    "# run alignment on nnn seperated 4spp fastas\n",
    "\"\"\"\n",
    "module load mafft\n",
    "module load parallel\n",
    "/bin/ls ../intermediate/4spp_alignment/*.fasta | parallel \"mafft --localpair --maxiterate 1000 {} > {}.aln\"\n",
    "\"\"\""
   ]
  },
  {
   "cell_type": "code",
   "execution_count": null,
   "metadata": {
    "collapsed": true
   },
   "outputs": [],
   "source": [
    "%run 3)_4sppAlignedFilter_13sppFasta.py\n",
    "%ls ../intermediate/13spp_alignment/"
   ]
  },
  {
   "cell_type": "code",
   "execution_count": null,
   "metadata": {
    "collapsed": true
   },
   "outputs": [],
   "source": [
    "# run alignment on nnn seperated 13spp fastas\n",
    "\"\"\"\n",
    "module load mafft\n",
    "module load parallel\n",
    "/bin/ls ../intermediate/13spp_alignment/*.fasta | parallel \"mafft --localpair --maxiterate 1000 {} > {}.aln\"\n",
    "\"\"\""
   ]
  },
  {
   "cell_type": "code",
   "execution_count": null,
   "metadata": {
    "collapsed": true
   },
   "outputs": [],
   "source": [
    "%run 4)_13sppAlignedFilter.py"
   ]
  },
  {
   "cell_type": "code",
   "execution_count": null,
   "metadata": {
    "collapsed": true
   },
   "outputs": [],
   "source": [
    "%run 5)_P3_input-custom_ambiguities.py\n",
    "%ls ../intermediate/primer_design/"
   ]
  },
  {
   "cell_type": "code",
   "execution_count": null,
   "metadata": {
    "collapsed": true
   },
   "outputs": [],
   "source": [
    "# run primer design\n",
    "'''\n",
    "for f in ./*.p3; do /data0/opt/Primer3/primer3-2-.3.6/src/primer3_core < \"$f\" > \"$f\".out ; done\n",
    "\n",
    "/bin/ls ./*.p3 | parallel \"/data0/opt/Primer3/primer3-2-.3.6/src/primer3_core {} > {}.out\"\n",
    "'''"
   ]
  },
  {
   "cell_type": "code",
   "execution_count": null,
   "metadata": {
    "collapsed": true
   },
   "outputs": [],
   "source": [
    "%run 6)_pad_to_13spp_and_trim_to_primer_product.py\n",
    "%ls ../intermediate/phylo_informativeness/"
   ]
  },
  {
   "cell_type": "code",
   "execution_count": null,
   "metadata": {
    "collapsed": true
   },
   "outputs": [],
   "source": [
    "# run phylogenetic informativeness"
   ]
  },
  {
   "cell_type": "code",
   "execution_count": null,
   "metadata": {
    "collapsed": true
   },
   "outputs": [],
   "source": [
    "%run 7)_summary.py\n",
    "%ls ../output/"
   ]
  }
 ],
 "metadata": {
  "anaconda-cloud": {},
  "kernelspec": {
   "display_name": "Python [default]",
   "language": "python",
   "name": "python3"
  },
  "language_info": {
   "codemirror_mode": {
    "name": "ipython",
    "version": 3
   },
   "file_extension": ".py",
   "mimetype": "text/x-python",
   "name": "python",
   "nbconvert_exporter": "python",
   "pygments_lexer": "ipython3",
   "version": "3.5.2"
  }
 },
 "nbformat": 4,
 "nbformat_minor": 1
}
