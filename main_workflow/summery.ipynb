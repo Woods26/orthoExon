{
 "cells": [
  {
   "cell_type": "code",
   "execution_count": 2,
   "metadata": {
    "collapsed": true
   },
   "outputs": [],
   "source": [
    "#!/usr/bin/env python\n",
    "# coding: utf-8\n",
    "\n",
    "import os\n",
    "import gffutils\n",
    "from Bio.Alphabet import IUPAC\n",
    "import json\n",
    "from Bio import SeqIO\n",
    "import sqlite3\n",
    "import argparse\n",
    "from config import full_species_list, species_list, transvestigated_species_set, summary_fn, \\\n",
    "    primer3_path, unpadded_primer_product_path, db_path, json_path, pi_score_path"
   ]
  },
  {
   "cell_type": "code",
   "execution_count": 13,
   "metadata": {
    "collapsed": true
   },
   "outputs": [],
   "source": [
    "summary_fn = \"../output0/summory.csv\"\n",
    "primer3_path = \"../intermediate0/primer_design/\"\n",
    "unpadded_primer_product_path = \"../output0/primerProducts/\"\n",
    "json_path = \"../intermediate0/json/\"\n",
    "pi_score_path = \"../intermediate0/phylo_informativeness/tapir_out/phylogenetic-informativeness.sqlite\""
   ]
  },
  {
   "cell_type": "code",
   "execution_count": 4,
   "metadata": {
    "collapsed": true
   },
   "outputs": [],
   "source": [
    "# create handles for all .fasta files in fasta directory\n",
    "fasta_fn = {name.split('.13spp.fasta')[0]: unpadded_primer_product_path + name for name in\n",
    "            os.listdir(unpadded_primer_product_path) if\n",
    "            ((\".13spp.fasta\" in name) and (\".13spp.fasta.fai\" not in name))}"
   ]
  },
  {
   "cell_type": "code",
   "execution_count": 6,
   "metadata": {
    "collapsed": true
   },
   "outputs": [],
   "source": [
    "# read and parse fasta files for each species\n",
    "fasta = {}\n",
    "for ortho in fasta_fn.keys():\n",
    "    fasta[ortho] = {seq_record.id: seq_record\n",
    "                    for seq_record in SeqIO.parse(fasta_fn[ortho],\n",
    "                                                  \"fasta\", alphabet=IUPAC.ambiguous_dna)}\n"
   ]
  },
  {
   "cell_type": "code",
   "execution_count": 20,
   "metadata": {
    "collapsed": true
   },
   "outputs": [],
   "source": [
    "primer = {}\n",
    "for p3_out_fn in [fn for fn in os.listdir(primer3_path) if \".p3.out\" in fn]:\n",
    "    ortho = p3_out_fn.split('.degenerate.p3.out')[0]\n",
    "    with open(primer3_path + p3_out_fn, 'r') as f:\n",
    "        lines = f.readlines()\n",
    "        lines = [line.strip().split('=') for line in lines]\n",
    "        lines = {key: value for key, value in lines if key is not ''}\n",
    "        if 'PRIMER_PAIR_NUM_RETURNED' not in lines.keys():\n",
    "            continue\n",
    "        if lines['PRIMER_PAIR_NUM_RETURNED'] is not '0':\n",
    "            primer[ortho] = []\n",
    "            for variation in range(int(lines['PRIMER_PAIR_NUM_RETURNED'])):\n",
    "                left, l_len = lines['PRIMER_LEFT_{}'.format(variation)].split(',')\n",
    "                right, r_len = lines['PRIMER_RIGHT_{}'.format(variation)].split(',')\n",
    "                primer[ortho].append((\n",
    "                    str(int(lines['PRIMER_PAIR_{}_PRODUCT_SIZE'.format(variation)]) - int(l_len) - int(r_len)),\n",
    "                    lines['PRIMER_LEFT_{}_SEQUENCE'.format(variation)],\n",
    "                    lines['PRIMER_RIGHT_{}_SEQUENCE'.format(variation)],\n",
    "                    lines['PRIMER_LEFT_{}_TM'.format(variation)],\n",
    "                    lines['PRIMER_RIGHT_{}_TM'.format(variation)]))\n"
   ]
  },
  {
   "cell_type": "code",
   "execution_count": 21,
   "metadata": {
    "collapsed": false
   },
   "outputs": [],
   "source": [
    "# grab pi scores from sql database\n",
    "conn = sqlite3.connect(pi_score_path)\n",
    "name_score = conn.execute(\"select loci.locus, avg(pi) from loci, discrete where loci.id = discrete.id group by loci.locus\").fetchall()\n",
    "name_score = {line[0].split(\".13spp.fasta\")[0]: line[1] for line in name_score}\n"
   ]
  },
  {
   "cell_type": "code",
   "execution_count": 22,
   "metadata": {
    "collapsed": true
   },
   "outputs": [],
   "source": [
    "# import pre_padding_species.json\n",
    "with open(json_path + \"pre_padding_species.json\", 'r') as f:\n",
    "    pre_padd_sp = json.load(f)\n"
   ]
  },
  {
   "cell_type": "code",
   "execution_count": 23,
   "metadata": {
    "collapsed": true
   },
   "outputs": [],
   "source": [
    "# import ortholog groups\n",
    "with open(json_path + \"groups.json\", 'r') as f:\n",
    "    parent_groups = json.load(f)\n"
   ]
  },
  {
   "cell_type": "code",
   "execution_count": 24,
   "metadata": {
    "collapsed": true
   },
   "outputs": [],
   "source": [
    "# create handles for all .db files in intermediate directory\n",
    "gff_fn = {name.split('.gff.db')[0]: db_path + name for name in os.listdir(db_path) if\n",
    "          \".gff.db\" in name}\n",
    "gff = {key: gffutils.FeatureDB(value) for key, value in gff_fn.items()}"
   ]
  },
  {
   "cell_type": "code",
   "execution_count": 34,
   "metadata": {
    "collapsed": false
   },
   "outputs": [],
   "source": [
    "data = []\n",
    "for ortho_plus in name_score:\n",
    "    ortho = ortho_plus[:-3]\n",
    "    variation = int(ortho_plus[-1:])\n",
    "    for sp in pre_padd_sp[ortho]:\n",
    "        if 'product' in gff[sp][parent_groups[ortho.split(\"_\")[0]][sp]].attributes.keys():\n",
    "            product = gff[sp][parent_groups[ortho.split(\"_\")[0]][sp]]['product'][0]\n",
    "        else:\n",
    "            product = \"N/A\"\n",
    "        score = name_score[ortho_plus]\n",
    "        data.append((ortho_plus, str(score), sp, product, *primer[ortho][variation]))\n"
   ]
  }
 ],
 "metadata": {
  "anaconda-cloud": {},
  "kernelspec": {
   "display_name": "Python [conda env:orthoExon]",
   "language": "python",
   "name": "conda-env-orthoExon-py"
  },
  "language_info": {
   "codemirror_mode": {
    "name": "ipython",
    "version": 3
   },
   "file_extension": ".py",
   "mimetype": "text/x-python",
   "name": "python",
   "nbconvert_exporter": "python",
   "pygments_lexer": "ipython3",
   "version": "3.5.2"
  }
 },
 "nbformat": 4,
 "nbformat_minor": 1
}
