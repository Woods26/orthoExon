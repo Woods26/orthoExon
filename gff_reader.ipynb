{
 "cells": [
  {
   "cell_type": "code",
   "execution_count": 14,
   "metadata": {
    "collapsed": false
   },
   "outputs": [],
   "source": [
    "import gffutils\n",
    "import os\n",
    "from multiprocessing import Pool\n",
    "from multiprocessing.dummy import Pool as ThreadPool"
   ]
  },
  {
   "cell_type": "code",
   "execution_count": 15,
   "metadata": {
    "collapsed": true
   },
   "outputs": [],
   "source": [
    "gff_path = \"input/gff/\"\n",
    "fasta_path = \"input/fasta\"\n",
    "db_path = \"intermediate/\"\n",
    "species_list = [\"Bcur\", \"Bdor\", \"Bole\", \"Ccap\"]"
   ]
  },
  {
   "cell_type": "code",
   "execution_count": 16,
   "metadata": {
    "collapsed": false
   },
   "outputs": [],
   "source": [
    "def get_db(species):\n",
    "    gff_name = species + \".gff\"\n",
    "    if os.path.isfile(os.path.join(os.path.abspath(os.path.curdir),db_path + gff_name + \".db\")):\n",
    "        db = gffutils.FeatureDB(os.path.join(os.path.abspath(os.path.curdir),db_path + gff_name + \".db\"))\n",
    "    else:\n",
    "        fn = gffutils.example_filename(os.path.join(os.path.abspath(os.path.curdir),gff_path + gff_name))\n",
    "        db = gffutils.create_db(fn,\n",
    "                                dbfn=db_path + gff_name + \".db\",\n",
    "                                force=True,\n",
    "                                merge_strategy='merge',\n",
    "                                id_spec=['ID', 'Name'])\n",
    "    return (species, db)"
   ]
  },
  {
   "cell_type": "code",
   "execution_count": 17,
   "metadata": {
    "collapsed": false
   },
   "outputs": [],
   "source": [
    "with Pool(len(species_list)) as p: gff_dbs = {sp:db for sp,db in p.map(get_db, species_list)}"
   ]
  },
  {
   "cell_type": "code",
   "execution_count": 18,
   "metadata": {
    "collapsed": false
   },
   "outputs": [
    {
     "data": {
      "text/plain": [
       "{'Bcur': <gffutils.interface.FeatureDB at 0x104acb390>,\n",
       " 'Bdor': <gffutils.interface.FeatureDB at 0x1064c8518>,\n",
       " 'Bole': <gffutils.interface.FeatureDB at 0x106941e80>,\n",
       " 'Ccap': <gffutils.interface.FeatureDB at 0x104acb2e8>}"
      ]
     },
     "execution_count": 18,
     "metadata": {},
     "output_type": "execute_result"
    }
   ],
   "source": [
    "gff_dbs"
   ]
  }
 ],
 "metadata": {
  "kernelspec": {
   "display_name": "Python 3",
   "language": "python",
   "name": "python3"
  },
  "language_info": {
   "codemirror_mode": {
    "name": "ipython",
    "version": 3
   },
   "file_extension": ".py",
   "mimetype": "text/x-python",
   "name": "python",
   "nbconvert_exporter": "python",
   "pygments_lexer": "ipython3",
   "version": "3.5.2"
  }
 },
 "nbformat": 4,
 "nbformat_minor": 0
}
