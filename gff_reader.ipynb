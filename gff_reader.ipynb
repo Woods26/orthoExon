{
 "cells": [
  {
   "cell_type": "code",
   "execution_count": null,
   "metadata": {
    "collapsed": false
   },
   "outputs": [],
   "source": [
    "import gffutils\n",
    "import os\n",
    "from multiprocessing import Pool\n",
    "from multiprocessing.dummy import Pool as ThreadPool\n",
    "from pprint import pprint as pp\n",
    "import time\n",
    "import itertools\n",
    "from src.utility_functions import *"
   ]
  },
  {
   "cell_type": "code",
   "execution_count": null,
   "metadata": {
    "collapsed": true
   },
   "outputs": [],
   "source": [
    "gff_path = \"input/gff/\"\n",
    "fasta_path = \"input/fasta\"\n",
    "db_path = \"intermediate/\"\n",
    "species_list = [\"Bcur\", \"Bdor\", \"Bole\", \"Ccap\"]\n",
    "ortho_group_path = \"input/new_groups_filter.txt\""
   ]
  },
  {
   "cell_type": "code",
   "execution_count": null,
   "metadata": {
    "collapsed": false
   },
   "outputs": [],
   "source": [
    "start = time.clock()\n",
    "print(\"created?\\n\" +\n",
    "      \"--------\")\n",
    "with Pool(len(species_list)) as p: results = {sp:db for sp,db in p.starmap(create_db, zip(itertools.repeat(db_path), itertools.repeat(gff_path), species_list))}\n",
    "for sp,status in results.items():\n",
    "    print(\"{}: {}\".format(sp, status))\n",
    "end = time.clock()\n",
    "print(\"time: {}\".format(end - start))"
   ]
  },
  {
   "cell_type": "code",
   "execution_count": null,
   "metadata": {
    "collapsed": false
   },
   "outputs": [],
   "source": [
    "start = time.clock()\n",
    "gff_dbs = {sp:db for sp,db in [connect_db(db_path, sp) for sp in species_list]}\n",
    "exons = {}\n",
    "for sp in species_list:\n",
    "    exons[sp] = gff_dbs[sp].count_features_of_type('exon')\n",
    "    print(\"{} exons: {}\".format(sp, exons[sp]))\n",
    "end = time.clock()\n",
    "print(\"time: {}\".format(end - start))"
   ]
  },
  {
   "cell_type": "code",
   "execution_count": null,
   "metadata": {
    "collapsed": false
   },
   "outputs": [],
   "source": [
    "get_ortho_groups(ortho_group_path)"
   ]
  }
 ],
 "metadata": {
  "kernelspec": {
   "display_name": "Python 3",
   "language": "python",
   "name": "python3"
  },
  "language_info": {
   "codemirror_mode": {
    "name": "ipython",
    "version": 3.0
   },
   "file_extension": ".py",
   "mimetype": "text/x-python",
   "name": "python",
   "nbconvert_exporter": "python",
   "pygments_lexer": "ipython3",
   "version": "3.5.2"
  }
 },
 "nbformat": 4,
 "nbformat_minor": 0
}