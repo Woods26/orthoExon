{
 "cells": [
  {
   "cell_type": "code",
   "execution_count": 1,
   "metadata": {
    "collapsed": false
   },
   "outputs": [],
   "source": [
    "import gffutils\n",
    "import os\n",
    "from multiprocessing import Pool\n",
    "from multiprocessing.dummy import Pool as ThreadPool\n",
    "from pprint import pprint as pp\n",
    "import time"
   ]
  },
  {
   "cell_type": "code",
   "execution_count": 2,
   "metadata": {
    "collapsed": true
   },
   "outputs": [],
   "source": [
    "gff_path = \"input/gff/\"\n",
    "fasta_path = \"input/fasta\"\n",
    "db_path = \"intermediate/\"\n",
    "species_list = [\"Bcur\", \"Bdor\", \"Bole\", \"Ccap\"]"
   ]
  },
  {
   "cell_type": "code",
   "execution_count": 3,
   "metadata": {
    "collapsed": false
   },
   "outputs": [],
   "source": [
    "def create_db(species):\n",
    "    gff_name = species + \".gff\"\n",
    "    created = False\n",
    "    if not os.path.isfile(os.path.join(os.path.abspath(os.path.curdir),db_path + gff_name + \".db\")):\n",
    "        fn = gffutils.example_filename(os.path.join(os.path.abspath(os.path.curdir),gff_path + gff_name))\n",
    "        db = gffutils.create_db(fn,\n",
    "                                dbfn=db_path + gff_name + \".db\",\n",
    "                                force=True,\n",
    "                                merge_strategy='merge',\n",
    "                                id_spec=['ID', 'Name'])\n",
    "        created = True\n",
    "    return (species, created)"
   ]
  },
  {
   "cell_type": "code",
   "execution_count": 4,
   "metadata": {
    "collapsed": true
   },
   "outputs": [],
   "source": [
    "def connect_db(species):\n",
    "    gff_name = species + \".gff\"\n",
    "    if os.path.isfile(os.path.join(os.path.abspath(os.path.curdir),db_path + gff_name + \".db\")):\n",
    "        db = gffutils.FeatureDB(os.path.join(os.path.abspath(os.path.curdir),db_path + gff_name + \".db\"))\n",
    "    return (species, db)"
   ]
  },
  {
   "cell_type": "code",
   "execution_count": 5,
   "metadata": {
    "collapsed": true
   },
   "outputs": [],
   "source": [
    "def get_exons(species):\n",
    "    species,db = connect_db(species)\n",
    "    return (species, [exon for exon in db.features_of_type('exon')])"
   ]
  },
  {
   "cell_type": "code",
   "execution_count": 6,
   "metadata": {
    "collapsed": false
   },
   "outputs": [
    {
     "name": "stdout",
     "output_type": "stream",
     "text": [
      "created?\n",
      "--------\n",
      "Bole: False\n",
      "Bdor: False\n",
      "Bcur: False\n",
      "Ccap: False\n"
     ]
    }
   ],
   "source": [
    "print(\"created?\\n\" +\n",
    "      \"--------\")\n",
    "with Pool(len(species_list)) as p: results = {sp:db for sp,db in p.map(create_db, species_list)}\n",
    "for sp,status in results.items():\n",
    "    print(\"{}: {}\".format(sp, status))"
   ]
  },
  {
   "cell_type": "code",
   "execution_count": 7,
   "metadata": {
    "collapsed": false
   },
   "outputs": [
    {
     "name": "stdout",
     "output_type": "stream",
     "text": [
      "Bcur exons: 139222\n",
      "Bdor exons: 106567\n",
      "Bole exons: 110294\n",
      "Ccap exons: 148755\n",
      "time: 33.675389\n"
     ]
    }
   ],
   "source": [
    "start = time.clock()\n",
    "gff_dbs = {sp:db for sp,db in [connect_db(sp) for sp in species_list]}\n",
    "exons = {}\n",
    "for sp in species_list:\n",
    "    exons[sp] = [exon for exon in gff_dbs[sp].features_of_type('exon')]\n",
    "    print(\"{} exons: {}\".format(sp, len(exons[sp])))\n",
    "end = time.clock()\n",
    "print(\"time: {}\".format(end - start))"
   ]
  },
  {
   "cell_type": "code",
   "execution_count": 8,
   "metadata": {
    "collapsed": false
   },
   "outputs": [
    {
     "name": "stdout",
     "output_type": "stream",
     "text": [
      "Bcur exons: 139222\n",
      "Bdor exons: 106567\n",
      "Bole exons: 110294\n",
      "Ccap exons: 148755\n",
      "time: 29.014419000000004\n"
     ]
    }
   ],
   "source": [
    "start = time.clock()\n",
    "with Pool(len(species_list)) as p: exons = {sp:exons for sp,exons in p.map(get_exons, species_list)}\n",
    "for sp in species_list:\n",
    "    print(\"{} exons: {}\".format(sp, len(exons[sp])))\n",
    "end = time.clock()\n",
    "print(\"time: {}\".format(end - start))"
   ]
  },
  {
   "cell_type": "code",
   "execution_count": 9,
   "metadata": {
    "collapsed": false
   },
   "outputs": [
    {
     "name": "stdout",
     "output_type": "stream",
     "text": [
      "Bcur exons: 139222\n",
      "Bdor exons: 106567\n",
      "Bole exons: 110294\n",
      "Ccap exons: 148755\n",
      "time: 130.422873\n"
     ]
    }
   ],
   "source": [
    "start = time.clock()\n",
    "with ThreadPool(len(species_list)) as p: exons = {sp:exons for sp,exons in p.map(get_exons, species_list)}\n",
    "for sp in species_list:\n",
    "    print(\"{} exons: {}\".format(sp, len(exons[sp])))\n",
    "end = time.clock()\n",
    "print(\"time: {}\".format(end - start))"
   ]
  }
 ],
 "metadata": {
  "kernelspec": {
   "display_name": "Python 3",
   "language": "python",
   "name": "python3"
  },
  "language_info": {
   "codemirror_mode": {
    "name": "ipython",
    "version": 3
   },
   "file_extension": ".py",
   "mimetype": "text/x-python",
   "name": "python",
   "nbconvert_exporter": "python",
   "pygments_lexer": "ipython3",
   "version": "3.5.2"
  }
 },
 "nbformat": 4,
 "nbformat_minor": 0
}
