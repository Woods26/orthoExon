{
 "cells": [
  {
   "cell_type": "code",
   "execution_count": 1,
   "metadata": {
    "collapsed": false
   },
   "outputs": [],
   "source": [
    "import os\n",
    "import gffutils\n",
    "from Bio.Seq import Seq\n",
    "from Bio.SeqRecord import SeqRecord\n",
    "from Bio.Alphabet import IUPAC\n",
    "import json\n",
    "from pyfaidx import Fasta\n",
    "from Bio import SeqIO\n",
    "import re\n",
    "from pprint import pprint as pp"
   ]
  },
  {
   "cell_type": "code",
   "execution_count": 2,
   "metadata": {
    "collapsed": true
   },
   "outputs": [],
   "source": [
    "full_species_list = ['Bjar', 'Aobl', 'Bmin', 'Asus', 'Btry', 'Afra', 'Blat', 'Bzon', 'Bcor', 'Ccap', 'Bcur', 'Bole', 'Bdor']\n",
    "species_list = [\"Bcur\", \"Bdor\", \"Bole\", \"Ccap\"]\n",
    "transvestigated_species_set = {'Bcor', 'Blat', 'Bzon', 'Afra', 'Bmin', 'Bjar', 'Aobl'}\n",
    "gff_path = \"./input/gff/\"\n",
    "fasta_path = \"./input/fasta/\"\n",
    "groups_fn = \"./input/groups_filtered_6181genes.txt\"\n",
    "output_path = \"./output/\"\n",
    "input_path = \"./input/\"\n",
    "intermediate_path = \"./intermediate/\"\n",
    "aligned_fasta_path = \"./intermediate/13spp_aligned_trimmed_filtered_fasta/\"\n",
    "p3_out_path = [ \"./input/p3out_200_600_MaxNs1_lowerTM/\",\n",
    "                \"./input/p3out_200_600_MaxNs2_lowerTM/\",\n",
    "                \"./input/p3out_200_600_MaxNs3_lowerTM/\"]\n",
    "primer_products_path = \"./intermediate/primer_products/\""
   ]
  },
  {
   "cell_type": "code",
   "execution_count": 3,
   "metadata": {
    "collapsed": false
   },
   "outputs": [],
   "source": [
    "# create handles for all .fasta files in fasta directory\n",
    "fasta_fn = {name.split('.13spp.fasta')[0]: primer_products_path + name for name in os.listdir(primer_products_path) if\n",
    "         ((\".13spp.fasta\" in name) and (\".13spp.fasta.fai\" not in name))}"
   ]
  },
  {
   "cell_type": "code",
   "execution_count": 4,
   "metadata": {
    "collapsed": false,
    "scrolled": true
   },
   "outputs": [],
   "source": [
    "primer = [dict() for i in range(3)]\n",
    "for i in range(3):\n",
    "    for p3_out_fn in os.listdir(p3_out_path[i]):\n",
    "        ortho = p3_out_fn.split('.degenerate.p3.out')[0]\n",
    "        with open(p3_out_path[i] + p3_out_fn, 'r') as f:\n",
    "            lines = f.readlines()\n",
    "            lines = [line.strip().split('=') for line in lines]\n",
    "            lines = {key:value for key,value in lines if key is not ''}\n",
    "            if lines['PRIMER_PAIR_NUM_RETURNED'] is not '0':\n",
    "                test=lines\n",
    "                left,l_len = lines['PRIMER_LEFT_0'].split(',')\n",
    "                right,r_len = lines['PRIMER_RIGHT_0'].split(',')\n",
    "                primer[i][ortho] = (str(int(lines['PRIMER_PAIR_0_PRODUCT_SIZE']) - int(l_len) - int(r_len)),\n",
    "                                 '\"' + lines['PRIMER_LEFT_0'] + '\"',\n",
    "                                 '\"' + lines['PRIMER_RIGHT_0'] + '\"',\n",
    "                                 lines['PRIMER_LEFT_0_SEQUENCE'],\n",
    "                                 lines['PRIMER_RIGHT_0_SEQUENCE'],\n",
    "                                 lines['PRIMER_LEFT_0_TM'],\n",
    "                                 lines['PRIMER_RIGHT_0_TM'])"
   ]
  },
  {
   "cell_type": "code",
   "execution_count": 5,
   "metadata": {
    "collapsed": false
   },
   "outputs": [],
   "source": [
    "data = []\n",
    "for i in range(3):\n",
    "    for ortho in primer[i]:\n",
    "            data.append((ortho, i+1, *primer[i][ortho]))"
   ]
  },
  {
   "cell_type": "code",
   "execution_count": 6,
   "metadata": {
    "collapsed": false
   },
   "outputs": [],
   "source": [
    "data = sorted(data, key=lambda x: (x[0], x[1]))"
   ]
  },
  {
   "cell_type": "code",
   "execution_count": 7,
   "metadata": {
    "collapsed": false
   },
   "outputs": [],
   "source": [
    "header = ['Exon_Name',\n",
    " 'ambiguities_allowed',\n",
    " 'Target_Sequence_Length',\n",
    " 'PRIMER_LEFT_0',\n",
    " 'PRIMER_RIGHT_0',\n",
    " 'PRIMER_LEFT_0_SEQUENCE',\n",
    " 'PRIMER_RIGHT_0_SEQUENCE',\n",
    " 'PRIMER_LEFT_0_TM',\n",
    " 'PRIMER_RIGHT_0_TM']"
   ]
  },
  {
   "cell_type": "code",
   "execution_count": 8,
   "metadata": {
    "collapsed": false
   },
   "outputs": [],
   "source": [
    "data = [tuple(str(el) for el in record) for record in data]"
   ]
  },
  {
   "cell_type": "code",
   "execution_count": 9,
   "metadata": {
    "collapsed": false
   },
   "outputs": [],
   "source": [
    "import csv\n",
    "with open(\"./output/13spp_exon_primer_data.csv\", \"w\") as f:\n",
    "    f.write(\",\".join(header))\n",
    "    for record in data:\n",
    "        f.write(\"\\n\" + \",\".join(record))"
   ]
  },
  {
   "cell_type": "code",
   "execution_count": 10,
   "metadata": {
    "collapsed": false
   },
   "outputs": [],
   "source": [
    "a = {el[0] for el in data if el[1] == \"1\"}\n",
    "b = {el[0] for el in data if el[1] == \"2\"}\n",
    "c = {el[0] for el in data if el[1] == \"3\"}\n",
    "venn = [set() for i in range(7)]\n",
    "venn[0] = a - b - c\n",
    "venn[1] = b - c - a\n",
    "venn[2] = c - a - b\n",
    "venn[3] = a & b - c\n",
    "venn[4] = b & c - a\n",
    "venn[5] = c & a - b\n",
    "venn[6] = a & b & c"
   ]
  },
  {
   "cell_type": "code",
   "execution_count": 11,
   "metadata": {
    "collapsed": false
   },
   "outputs": [
    {
     "data": {
      "text/plain": [
       "(57, 177, 344)"
      ]
     },
     "execution_count": 11,
     "metadata": {},
     "output_type": "execute_result"
    }
   ],
   "source": [
    "len(a),len(b),len(c)"
   ]
  },
  {
   "cell_type": "code",
   "execution_count": 12,
   "metadata": {
    "collapsed": false
   },
   "outputs": [
    {
     "data": {
      "text/plain": [
       "[0, 0, 167, 0, 120, 0, 57]"
      ]
     },
     "execution_count": 12,
     "metadata": {},
     "output_type": "execute_result"
    }
   ],
   "source": [
    "[len(s) for s in venn]"
   ]
  },
  {
   "cell_type": "code",
   "execution_count": 13,
   "metadata": {
    "collapsed": false
   },
   "outputs": [
    {
     "data": {
      "text/plain": [
       "[57, 177, 344]"
      ]
     },
     "execution_count": 13,
     "metadata": {},
     "output_type": "execute_result"
    }
   ],
   "source": [
    "[len(primer[i]) for i in range(3)]"
   ]
  }
 ],
 "metadata": {
  "kernelspec": {
   "display_name": "Python 3",
   "language": "python",
   "name": "python3"
  },
  "language_info": {
   "codemirror_mode": {
    "name": "ipython",
    "version": 3
   },
   "file_extension": ".py",
   "mimetype": "text/x-python",
   "name": "python",
   "nbconvert_exporter": "python",
   "pygments_lexer": "ipython3",
   "version": "3.5.2"
  }
 },
 "nbformat": 4,
 "nbformat_minor": 0
}
