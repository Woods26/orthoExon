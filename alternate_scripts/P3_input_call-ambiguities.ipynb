{
 "cells": [
  {
   "cell_type": "code",
   "execution_count": null,
   "metadata": {
    "collapsed": false
   },
   "outputs": [],
   "source": [
    "import os\n",
    "from Bio.Seq import Seq\n",
    "from Bio.SeqRecord import SeqRecord\n",
    "from Bio.Alphabet import IUPAC\n",
    "from Bio import SeqIO"
   ]
  },
  {
   "cell_type": "code",
   "execution_count": null,
   "metadata": {
    "collapsed": true
   },
   "outputs": [],
   "source": [
    "full_species_list = ['Bjar', 'Aobl', 'Bmin', 'Asus', 'Btry', 'Afra', 'Blat', 'Bzon', 'Bcor', 'Ccap', 'Bcur', 'Bole', 'Bdor']\n",
    "species_list = [\"Bcur\", \"Bdor\", \"Bole\", \"Ccap\"]\n",
    "transvestigated_species_set = {'Bcor', 'Blat', 'Bzon', 'Afra', 'Bmin', 'Bjar', 'Aobl'}\n",
    "gff_path = \"./input/gff/\"\n",
    "fasta_path = \"./input/fasta/\"\n",
    "groups_fn = \"./input/groups_filtered_6181genes.txt\"\n",
    "output_path = \"./output/\"\n",
    "input_path = \"./input/\"\n",
    "intermediate_path = \"./intermediate/\"\n",
    "aligned_fasta_path = \"./input/perl_consenses/\""
   ]
  },
  {
   "cell_type": "code",
   "execution_count": null,
   "metadata": {
    "collapsed": false
   },
   "outputs": [],
   "source": [
    "%ls input"
   ]
  },
  {
   "cell_type": "code",
   "execution_count": null,
   "metadata": {
    "collapsed": false
   },
   "outputs": [],
   "source": [
    "# create handles for all .fasta files in fasta directory\n",
    "fasta_fn = {name.split('.13spp.fasta')[0]: aligned_fasta_path + name for name in os.listdir(aligned_fasta_path) if\n",
    "         ((\".13spp.fasta\" in name) and (\".13spp.fasta.fai\" not in name))}"
   ]
  },
  {
   "cell_type": "code",
   "execution_count": null,
   "metadata": {
    "collapsed": false
   },
   "outputs": [],
   "source": [
    "# read and parse fasta files for each species\n",
    "fasta = {}\n",
    "for ortho in fasta_fn.keys():\n",
    "    fasta[ortho] = {seq_record.id : seq_record \n",
    "                                      for seq_record in SeqIO.parse(fasta_fn[ortho],\n",
    "                                                                    \"fasta\", alphabet=IUPAC.ambiguous_dna)}"
   ]
  },
  {
   "cell_type": "code",
   "execution_count": null,
   "metadata": {
    "collapsed": false
   },
   "outputs": [],
   "source": [
    "from Bio import motifs\n",
    "fasta_degenerate = {}\n",
    "for ortho in fasta:\n",
    "    seq = motifs.create([fasta[ortho][sp].upper().seq for sp in fasta[ortho].keys()]).degenerate_consensus\n",
    "    fasta_degenerate[ortho] = seq\n",
    "        \n",
    "#fasta_degenerate"
   ]
  },
  {
   "cell_type": "code",
   "execution_count": null,
   "metadata": {
    "collapsed": false
   },
   "outputs": [],
   "source": [
    "[fasta[ortho][sp].upper().seq for sp in fasta[ortho].keys()]"
   ]
  },
  {
   "cell_type": "code",
   "execution_count": null,
   "metadata": {
    "collapsed": true
   },
   "outputs": [],
   "source": [
    "# output\n",
    "primer_product_size_range = '400-600'\n",
    "primer_thermodynamic_parameters_path = '/data0/opt/Primer3/primer3-2.3.6/src/primer3_config/'\n",
    "primer_max_ns_accepted = '1'\n",
    "primer_liberal_base = '1'\n",
    "for ortho in fasta.keys():\n",
    "    with open(\"output/\" + ortho + \".degenerate.p3\", \"w\") as f:\n",
    "        sequence_id = ortho\n",
    "        sequence_template = str(fasta_degenerate[ortho])\n",
    "        f.write(\n",
    "            \"SEQUENCE_ID={}\\n\"\n",
    "            \"SEQUENCE_TEMPLATE={}\\n\"\n",
    "            \"PRIMER_PRODUCT_SIZE_RANGE={}\\n\"\n",
    "            \"PRIMER_THERMODYNAMIC_PARAMETERS_PATH={}\\n\"\n",
    "            \"PRIMER_MAX_NS_ACCEPTED={}\\n\"\n",
    "            \"PRIMER_LIBERAL_BASE={}\\n\"\n",
    "            \"PRIMER_MIN_TM=53\\n\"\n",
    "            \"PRIMER_OPT_TM=56\\n\"    \n",
    "            \"PRIMER_MAX_TM=60\\n\"\n",
    "            \"=\".format(\n",
    "                sequence_id,\n",
    "                sequence_template,\n",
    "                primer_product_size_range,\n",
    "                primer_thermodynamic_parameters_path,\n",
    "                primer_max_ns_accepted,\n",
    "                primer_liberal_base))"
   ]
  }
 ],
 "metadata": {
  "kernelspec": {
   "display_name": "Python 3",
   "language": "python",
   "name": "python3"
  },
  "language_info": {
   "codemirror_mode": {
    "name": "ipython",
    "version": 3.0
   },
   "file_extension": ".py",
   "mimetype": "text/x-python",
   "name": "python",
   "nbconvert_exporter": "python",
   "pygments_lexer": "ipython3",
   "version": "3.5.2"
  }
 },
 "nbformat": 4,
 "nbformat_minor": 0
}