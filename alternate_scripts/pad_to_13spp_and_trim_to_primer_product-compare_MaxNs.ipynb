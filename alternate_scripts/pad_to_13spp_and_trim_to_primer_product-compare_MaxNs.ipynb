{
 "cells": [
  {
   "cell_type": "code",
   "execution_count": null,
   "metadata": {
    "collapsed": false
   },
   "outputs": [],
   "source": [
    "import os\n",
    "import gffutils\n",
    "from Bio.Seq import Seq\n",
    "from Bio.SeqRecord import SeqRecord\n",
    "from Bio.Alphabet import IUPAC\n",
    "import json\n",
    "from pyfaidx import Fasta\n",
    "from Bio import SeqIO\n",
    "import re\n",
    "from pprint import pprint as pp"
   ]
  },
  {
   "cell_type": "code",
   "execution_count": null,
   "metadata": {
    "collapsed": true
   },
   "outputs": [],
   "source": [
    "full_species_list = ['Bjar', 'Aobl', 'Bmin', 'Asus', 'Btry', 'Afra', 'Blat', 'Bzon', 'Bcor', 'Ccap', 'Bcur', 'Bole', 'Bdor']\n",
    "species_list = [\"Bcur\", \"Bdor\", \"Bole\", \"Ccap\"]\n",
    "transvestigated_species_set = {'Bcor', 'Blat', 'Bzon', 'Afra', 'Bmin', 'Bjar', 'Aobl'}\n",
    "gff_path = \"./input/gff/\"\n",
    "fasta_path = \"./input/fasta/\"\n",
    "groups_fn = \"./input/groups_filtered_6181genes.txt\"\n",
    "output_path = \"./output/\"\n",
    "input_path = \"./input/\"\n",
    "intermediate_path = \"./intermediate/\"\n",
    "aligned_fasta_path = \"./intermediate/13spp_aligned_trimmed_filtered_fasta/\"\n",
    "p3_out_path = { 1:\"./input/p3out_200_600_MaxNs1_lowerTM/\",\n",
    "                2:\"./input/p3out_200_600_MaxNs2_lowerTM/\",\n",
    "                3:\"./input/p3out_200_600_MaxNs3_lowerTM/\"}"
   ]
  },
  {
   "cell_type": "code",
   "execution_count": null,
   "metadata": {
    "collapsed": false
   },
   "outputs": [],
   "source": [
    "with open(input_path + \"alternate_sp.json\", 'r') as f:\n",
    "    alternate_sp = json.load(f)\n",
    "pp(alternate_sp)"
   ]
  },
  {
   "cell_type": "code",
   "execution_count": null,
   "metadata": {
    "collapsed": false
   },
   "outputs": [],
   "source": [
    "# create handles for all .fasta files in fasta directory\n",
    "fasta_fn = {name.split('.13spp.fasta')[0]: aligned_fasta_path + name for name in os.listdir(aligned_fasta_path) if\n",
    "         ((\".13spp.fasta\" in name) and (\".13spp.fasta.fai\" not in name))}"
   ]
  },
  {
   "cell_type": "code",
   "execution_count": null,
   "metadata": {
    "collapsed": false
   },
   "outputs": [],
   "source": [
    "# read and parse fasta files for each species\n",
    "fasta = {}\n",
    "for ortho in fasta_fn.keys():\n",
    "    fasta[ortho] = {seq_record.id : seq_record \n",
    "                                      for seq_record in SeqIO.parse(fasta_fn[ortho],\n",
    "                                                                    \"fasta\", alphabet=IUPAC.ambiguous_dna)}"
   ]
  },
  {
   "cell_type": "code",
   "execution_count": null,
   "metadata": {
    "collapsed": false
   },
   "outputs": [],
   "source": [
    "primer = {}\n",
    "for p3_out_fn in os.listdir(p3_out_path):\n",
    "    ortho = p3_out_fn.split('.degenerate.p3.out')[0]\n",
    "    with open(p3_out_path + p3_out_fn, 'r') as f:\n",
    "        lines = f.readlines()\n",
    "        lines = [line.strip().split('=') for line in lines]\n",
    "        lines = {key:value for key,value in lines if key is not ''}\n",
    "        if lines['PRIMER_PAIR_NUM_RETURNED'] is not '0':\n",
    "            test = lines\n",
    "            left,l_len = lines['PRIMER_LEFT_0'].split(',')\n",
    "            right,r_len = lines['PRIMER_RIGHT_0'].split(',')\n",
    "            start = int(left) + int(l_len)\n",
    "            end = int(right) - int(r_len) + 1\n",
    "            primer[ortho] = (start,end)"
   ]
  },
  {
   "cell_type": "raw",
   "metadata": {
    "collapsed": false
   },
   "source": [
    "# sanity check for indicies\n",
    "\n",
    "print(Seq(test['PRIMER_LEFT_0_SEQUENCE'], alphabet=IUPAC.ambiguous_dna))\n",
    "\n",
    "print(Seq(test['SEQUENCE_TEMPLATE'], alphabet=IUPAC.ambiguous_dna)[int(left):int(left) + int(l_len)])\n",
    "\n",
    "print(Seq(test['PRIMER_RIGHT_0_SEQUENCE'], alphabet=IUPAC.ambiguous_dna).reverse_complement())\n",
    "\n",
    "print(Seq(test['SEQUENCE_TEMPLATE'], alphabet=IUPAC.ambiguous_dna)[int(right) - int(r_len)+1:int(right)+1])\n",
    "\n",
    "print(Seq(test['SEQUENCE_TEMPLATE'], alphabet=IUPAC.ambiguous_dna)[int(left) + int(l_len):int(right) - int(r_len)+1])\n",
    "\n",
    "print(len(Seq(test['SEQUENCE_TEMPLATE'], alphabet=IUPAC.ambiguous_dna)[int(left) + int(l_len):int(right) - int(r_len)+1]))\n",
    "\n",
    "print(test['PRIMER_PAIR_0_PRODUCT_SIZE'])"
   ]
  },
  {
   "cell_type": "code",
   "execution_count": null,
   "metadata": {
    "collapsed": false
   },
   "outputs": [],
   "source": [
    "from copy import deepcopy\n",
    "padded_fasta = {}\n",
    "trimmed_fasta = {}\n",
    "for ortho in fasta.keys():\n",
    "    if ortho in primer.keys():\n",
    "        start,end = primer[ortho]\n",
    "    else:\n",
    "        continue\n",
    "    padding = {}\n",
    "    for sp in full_species_list:\n",
    "        if sp not in fasta[ortho].keys():\n",
    "            for alt_sp in alternate_sp[sp]:\n",
    "                if alt_sp in fasta[ortho].keys():\n",
    "                    seq = fasta[ortho][alt_sp].seq[start:end]\n",
    "                    des = fasta[ortho][alt_sp].description\n",
    "                    des = \"PADDING \" + des\n",
    "                    padding[sp] = SeqRecord(seq, id=sp, description=des)\n",
    "                    break\n",
    "    trimmed_fasta[ortho] = {sp:fasta[ortho][sp][start:end] for sp in fasta[ortho]}\n",
    "    padded_fasta[ortho] = padding\n",
    "    padded_fasta[ortho].update(trimmed_fasta[ortho])"
   ]
  },
  {
   "cell_type": "code",
   "execution_count": null,
   "metadata": {
    "collapsed": false
   },
   "outputs": [],
   "source": [
    "{len(trimmed_fasta[ortho]) for ortho in trimmed_fasta.keys()}"
   ]
  },
  {
   "cell_type": "code",
   "execution_count": null,
   "metadata": {
    "collapsed": false
   },
   "outputs": [],
   "source": [
    "{len(padded_fasta[ortho]) for ortho in padded_fasta.keys()}"
   ]
  },
  {
   "cell_type": "code",
   "execution_count": null,
   "metadata": {
    "collapsed": true
   },
   "outputs": [],
   "source": [
    "sp_order = { 'Bcur':1,\n",
    "             'Bdor':2,\n",
    "             'Bole':3,\n",
    "             'Ccap':4,\n",
    "             'Bcor':5,\n",
    "             'Blat':6,\n",
    "             'Bzon':7,\n",
    "             'Afra':8,\n",
    "             'Bmin':9,\n",
    "             'Bjar':10,\n",
    "             'Aobl':11,\n",
    "             'Asus':12,\n",
    "             'Btry':13}"
   ]
  },
  {
   "cell_type": "code",
   "execution_count": null,
   "metadata": {
    "collapsed": false
   },
   "outputs": [],
   "source": [
    "# output fasta to pre_padding_species.json\n",
    "with open(intermediate_path + \"pre_padding_species.json\", 'w') as f:\n",
    "    json.dump({ortho:[sp for sp in trimmed_fasta[ortho]] for ortho in trimmed_fasta}, f)"
   ]
  },
  {
   "cell_type": "code",
   "execution_count": null,
   "metadata": {
    "collapsed": false
   },
   "outputs": [],
   "source": [
    "for ortho in trimmed_fasta.keys():\n",
    "    with open(output_path + \"trimmed_fasta/\" + ortho + \".13spp.fasta\", \"w\") as f:\n",
    "        for seqReq in sorted(trimmed_fasta[ortho].values(), key=lambda x: sp_order[x.id]):\n",
    "            f.write(seqReq.format(\"fasta\"))"
   ]
  },
  {
   "cell_type": "code",
   "execution_count": null,
   "metadata": {
    "collapsed": true
   },
   "outputs": [],
   "source": [
    "for ortho in padded_fasta.keys():\n",
    "    with open(output_path + \"padded_fasta/\" + ortho + \".13spp.fasta\", \"w\") as f:\n",
    "        for seqReq in sorted(padded_fasta[ortho].values(), key=lambda x: sp_order[x.id]):\n",
    "            f.write(seqReq.format(\"fasta\"))"
   ]
  }
 ],
 "metadata": {
  "kernelspec": {
   "display_name": "Python 3",
   "language": "python",
   "name": "python3"
  },
  "language_info": {
   "codemirror_mode": {
    "name": "ipython",
    "version": 3
   },
   "file_extension": ".py",
   "mimetype": "text/x-python",
   "name": "python",
   "nbconvert_exporter": "python",
   "pygments_lexer": "ipython3",
   "version": "3.5.2"
  }
 },
 "nbformat": 4,
 "nbformat_minor": 0
}
