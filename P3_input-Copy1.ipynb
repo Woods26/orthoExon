{
 "cells": [
  {
   "cell_type": "code",
   "execution_count": 1,
   "metadata": {
    "collapsed": false
   },
   "outputs": [],
   "source": [
    "import os\n",
    "import gffutils\n",
    "from Bio.Seq import Seq\n",
    "from Bio.SeqRecord import SeqRecord\n",
    "from Bio.Alphabet import IUPAC\n",
    "import json\n",
    "from pyfaidx import Fasta\n",
    "from Bio import SeqIO\n",
    "import re\n",
    "from pprint import pprint as pp"
   ]
  },
  {
   "cell_type": "code",
   "execution_count": 2,
   "metadata": {
    "collapsed": true
   },
   "outputs": [],
   "source": [
    "full_species_list = ['Bjar', 'Aobl', 'Bmin', 'Asus', 'Btry', 'Afra', 'Blat', 'Bzon', 'Bcor', 'Ccap', 'Bcur', 'Bole', 'Bdor']\n",
    "species_list = [\"Bcur\", \"Bdor\", \"Bole\", \"Ccap\"]\n",
    "transvestigated_species_set = {'Bcor', 'Blat', 'Bzon', 'Afra', 'Bmin', 'Bjar', 'Aobl'}\n",
    "gff_path = \"./input/gff/\"\n",
    "fasta_path = \"./input/fasta/\"\n",
    "groups_fn = \"./input/groups_filtered_6181genes.txt\"\n",
    "output_path = \"./output/\"\n",
    "input_path = \"./input/\"\n",
    "intermediate_path = \"./intermediate/\"\n",
    "aligned_fasta_path = \"./intermediate/13spp_aligned_trimmed_filtered_fasta/\""
   ]
  },
  {
   "cell_type": "code",
   "execution_count": 3,
   "metadata": {
    "collapsed": false
   },
   "outputs": [],
   "source": [
    "# create handles for all .fasta files in fasta directory\n",
    "fasta_fn = {name.split('.13spp.fasta')[0]: aligned_fasta_path + name for name in os.listdir(aligned_fasta_path) if\n",
    "         ((\".13spp.fasta\" in name) and (\".13spp.fasta.fai\" not in name))}"
   ]
  },
  {
   "cell_type": "code",
   "execution_count": 4,
   "metadata": {
    "collapsed": false
   },
   "outputs": [],
   "source": [
    "# read and parse fasta files for each species\n",
    "fasta = {}\n",
    "for ortho in fasta_fn.keys():\n",
    "    fasta[ortho] = {seq_record.id : seq_record \n",
    "                                      for seq_record in SeqIO.parse(fasta_fn[ortho],\n",
    "                                                                    \"fasta\", alphabet=IUPAC.ambiguous_dna)}"
   ]
  },
  {
   "cell_type": "code",
   "execution_count": 5,
   "metadata": {
    "collapsed": false
   },
   "outputs": [],
   "source": [
    "from Bio import motifs\n",
    "fasta_degenerate = {}\n",
    "for ortho in fasta:\n",
    "    seq = motifs.create([fasta[ortho][sp].upper().seq for sp in fasta[ortho].keys()]).degenerate_consensus\n",
    "    fasta_degenerate[ortho] = seq\n",
    "        \n",
    "#fasta_degenerate"
   ]
  },
  {
   "cell_type": "code",
   "execution_count": 7,
   "metadata": {
    "collapsed": true
   },
   "outputs": [],
   "source": [
    "# output\n",
    "primer_product_size_range = '400-600'\n",
    "primer_thermodynamic_parameters_path = '/data0/opt/Primer3/primer3-2.3.6/src/primer3_config/'\n",
    "primer_max_ns_accepted = '1'\n",
    "primer_liberal_base = '1'\n",
    "for ortho in fasta.keys():\n",
    "    with open(\"output/\" + ortho + \".degenerate.p3\", \"w\") as f:\n",
    "        sequence_id = ortho\n",
    "        sequence_template = str(fasta_degenerate[ortho])\n",
    "        f.write(\n",
    "            \"SEQUENCE_ID={}\\n\"\n",
    "            \"SEQUENCE_TEMPLATE={}\\n\"\n",
    "            \"PRIMER_PRODUCT_SIZE_RANGE={}\\n\"\n",
    "            \"PRIMER_THERMODYNAMIC_PARAMETERS_PATH={}\\n\"\n",
    "            \"PRIMER_MAX_NS_ACCEPTED={}\\n\"\n",
    "            \"PRIMER_LIBERAL_BASE={}\\n\"\n",
    "            \"=\".format(\n",
    "                sequence_id,\n",
    "                sequence_template,\n",
    "                primer_product_size_range,\n",
    "                primer_thermodynamic_parameters_path,\n",
    "                primer_max_ns_accepted,\n",
    "                primer_liberal_base))"
   ]
  },
  {
   "cell_type": "code",
   "execution_count": null,
   "metadata": {
    "collapsed": true
   },
   "outputs": [],
   "source": []
  },
  {
   "cell_type": "code",
   "execution_count": 19,
   "metadata": {
    "collapsed": true
   },
   "outputs": [],
   "source": [
    "ortho = 'orth2472_1850-2286'"
   ]
  },
  {
   "cell_type": "code",
   "execution_count": 28,
   "metadata": {
    "collapsed": false
   },
   "outputs": [],
   "source": [
    "m = motifs.create([fasta[ortho][sp].upper().seq[:10] for sp in fasta[ortho].keys()])"
   ]
  },
  {
   "cell_type": "code",
   "execution_count": 29,
   "metadata": {
    "collapsed": false
   },
   "outputs": [
    {
     "data": {
      "text/plain": [
       "Seq('AATTCGCTTA', IUPACAmbiguousDNA())"
      ]
     },
     "execution_count": 29,
     "metadata": {},
     "output_type": "execute_result"
    }
   ],
   "source": [
    "m.consensus"
   ]
  },
  {
   "cell_type": "code",
   "execution_count": 30,
   "metadata": {
    "collapsed": false
   },
   "outputs": [
    {
     "data": {
      "text/plain": [
       "Seq('AATTCGCTTA', IUPACAmbiguousDNA())"
      ]
     },
     "execution_count": 30,
     "metadata": {},
     "output_type": "execute_result"
    }
   ],
   "source": [
    "m.degenerate_consensus"
   ]
  },
  {
   "cell_type": "code",
   "execution_count": 31,
   "metadata": {
    "collapsed": false,
    "scrolled": false
   },
   "outputs": [
    {
     "data": {
      "text/plain": [
       "{'A': [9, 9, 0, 0, 0, 2, 0, 0, 2, 9],\n",
       " 'B': [0, 0, 0, 0, 0, 0, 0, 0, 0, 0],\n",
       " 'C': [0, 0, 0, 0, 9, 0, 9, 0, 2, 0],\n",
       " 'D': [0, 0, 0, 0, 0, 0, 0, 0, 0, 0],\n",
       " 'G': [0, 0, 0, 0, 0, 5, 0, 0, 0, 0],\n",
       " 'H': [0, 0, 0, 0, 0, 0, 0, 0, 0, 0],\n",
       " 'K': [0, 0, 0, 0, 0, 0, 0, 0, 0, 0],\n",
       " 'M': [0, 0, 0, 0, 0, 0, 0, 0, 0, 0],\n",
       " 'N': [0, 0, 0, 0, 0, 0, 0, 0, 0, 0],\n",
       " 'R': [0, 0, 0, 0, 0, 0, 0, 0, 0, 0],\n",
       " 'S': [0, 0, 0, 0, 0, 0, 0, 0, 0, 0],\n",
       " 'T': [0, 0, 9, 9, 0, 2, 0, 9, 5, 0],\n",
       " 'V': [0, 0, 0, 0, 0, 0, 0, 0, 0, 0],\n",
       " 'W': [0, 0, 0, 0, 0, 0, 0, 0, 0, 0],\n",
       " 'Y': [0, 0, 0, 0, 0, 0, 0, 0, 0, 0]}"
      ]
     },
     "execution_count": 31,
     "metadata": {},
     "output_type": "execute_result"
    }
   ],
   "source": [
    "m.counts"
   ]
  },
  {
   "cell_type": "code",
   "execution_count": 40,
   "metadata": {
    "collapsed": false
   },
   "outputs": [
    {
     "data": {
      "text/plain": [
       "Seq('GGGGGCGGGG', IUPACAmbiguousDNA())"
      ]
     },
     "execution_count": 40,
     "metadata": {},
     "output_type": "execute_result"
    }
   ],
   "source": [
    "m.anticonsensus"
   ]
  },
  {
   "cell_type": "code",
   "execution_count": 41,
   "metadata": {
    "collapsed": false
   },
   "outputs": [
    {
     "data": {
      "text/plain": [
       "{'A': 0.06666666666666667,\n",
       " 'B': 0.06666666666666667,\n",
       " 'C': 0.06666666666666667,\n",
       " 'D': 0.06666666666666667,\n",
       " 'G': 0.06666666666666667,\n",
       " 'H': 0.06666666666666667,\n",
       " 'K': 0.06666666666666667,\n",
       " 'M': 0.06666666666666667,\n",
       " 'N': 0.06666666666666667,\n",
       " 'R': 0.06666666666666667,\n",
       " 'S': 0.06666666666666667,\n",
       " 'T': 0.06666666666666667,\n",
       " 'V': 0.06666666666666667,\n",
       " 'W': 0.06666666666666667,\n",
       " 'Y': 0.06666666666666667}"
      ]
     },
     "execution_count": 41,
     "metadata": {},
     "output_type": "execute_result"
    }
   ],
   "source": [
    "m.background"
   ]
  },
  {
   "cell_type": "code",
   "execution_count": 47,
   "metadata": {
    "collapsed": false
   },
   "outputs": [
    {
     "data": {
      "text/plain": [
       "'  9.00   9.00   0.00   0.00   0.00   2.00   0.00   0.00   2.00   9.00\\n  0.00   0.00   0.00   0.00   9.00   0.00   9.00   0.00   2.00   0.00\\n  0.00   0.00   0.00   0.00   0.00   5.00   0.00   0.00   0.00   0.00\\n  0.00   0.00   9.00   9.00   0.00   2.00   0.00   9.00   5.00   0.00\\n'"
      ]
     },
     "execution_count": 47,
     "metadata": {},
     "output_type": "execute_result"
    }
   ],
   "source": [
    "m.format(\"pfm\")"
   ]
  },
  {
   "cell_type": "code",
   "execution_count": 48,
   "metadata": {
    "collapsed": false
   },
   "outputs": [
    {
     "data": {
      "text/plain": [
       "'>None \\nA [  9.00   9.00   0.00   0.00   0.00   2.00   0.00   0.00   2.00   9.00]\\nC [  0.00   0.00   0.00   0.00   9.00   0.00   9.00   0.00   2.00   0.00]\\nG [  0.00   0.00   0.00   0.00   0.00   5.00   0.00   0.00   0.00   0.00]\\nT [  0.00   0.00   9.00   9.00   0.00   2.00   0.00   9.00   5.00   0.00]\\n'"
      ]
     },
     "execution_count": 48,
     "metadata": {},
     "output_type": "execute_result"
    }
   ],
   "source": [
    "m.format(\"jaspar\")"
   ]
  },
  {
   "cell_type": "code",
   "execution_count": 49,
   "metadata": {
    "collapsed": false
   },
   "outputs": [
    {
     "data": {
      "text/plain": [
       "'P0      A      B      C      D      G      H      K      M      N      R      S      T      V      W      Y\\n01      9      0      0      0      0      0      0      0      0      0      0      0      0      0      0      A\\n02      9      0      0      0      0      0      0      0      0      0      0      0      0      0      0      A\\n03      0      0      0      0      0      0      0      0      0      0      0      9      0      0      0      T\\n04      0      0      0      0      0      0      0      0      0      0      0      9      0      0      0      T\\n05      0      0      9      0      0      0      0      0      0      0      0      0      0      0      0      C\\n06      2      0      0      0      5      0      0      0      0      0      0      2      0      0      0      G\\n07      0      0      9      0      0      0      0      0      0      0      0      0      0      0      0      C\\n08      0      0      0      0      0      0      0      0      0      0      0      9      0      0      0      T\\n09      2      0      2      0      0      0      0      0      0      0      0      5      0      0      0      T\\n10      9      0      0      0      0      0      0      0      0      0      0      0      0      0      0      A\\nXX\\n//\\n'"
      ]
     },
     "execution_count": 49,
     "metadata": {},
     "output_type": "execute_result"
    }
   ],
   "source": [
    "m.format(\"transfac\")"
   ]
  },
  {
   "cell_type": "code",
   "execution_count": 51,
   "metadata": {
    "collapsed": false
   },
   "outputs": [
    {
     "data": {
      "text/plain": [
       "[Seq('AATTCGCTTA', IUPACAmbiguousDNA()),\n",
       " Seq('AATTCGCTCA', IUPACAmbiguousDNA()),\n",
       " Seq('AATTCACTTA', IUPACAmbiguousDNA()),\n",
       " Seq('AATTCGCTTA', IUPACAmbiguousDNA()),\n",
       " Seq('AATTCTCTAA', IUPACAmbiguousDNA()),\n",
       " Seq('AATTCTCTCA', IUPACAmbiguousDNA()),\n",
       " Seq('AATTCGCTAA', IUPACAmbiguousDNA()),\n",
       " Seq('AATTCGCTTA', IUPACAmbiguousDNA()),\n",
       " Seq('AATTCACTTA', IUPACAmbiguousDNA())]"
      ]
     },
     "execution_count": 51,
     "metadata": {},
     "output_type": "execute_result"
    }
   ],
   "source": [
    "m.instances"
   ]
  },
  {
   "cell_type": "code",
   "execution_count": 54,
   "metadata": {
    "collapsed": false
   },
   "outputs": [
    {
     "data": {
      "text/plain": [
       "{'A': 0.0,\n",
       " 'B': 0.0,\n",
       " 'C': 0.0,\n",
       " 'D': 0.0,\n",
       " 'G': 0.0,\n",
       " 'H': 0.0,\n",
       " 'K': 0.0,\n",
       " 'M': 0.0,\n",
       " 'N': 0.0,\n",
       " 'R': 0.0,\n",
       " 'S': 0.0,\n",
       " 'T': 0.0,\n",
       " 'V': 0.0,\n",
       " 'W': 0.0,\n",
       " 'Y': 0.0}"
      ]
     },
     "execution_count": 54,
     "metadata": {},
     "output_type": "execute_result"
    }
   ],
   "source": [
    "m.pseudocounts"
   ]
  },
  {
   "cell_type": "code",
   "execution_count": 56,
   "metadata": {
    "collapsed": false
   },
   "outputs": [
    {
     "data": {
      "text/plain": [
       "{'A': [3.906890595608518,\n",
       "  3.906890595608518,\n",
       "  -inf,\n",
       "  -inf,\n",
       "  -inf,\n",
       "  1.7369655941662057,\n",
       "  -inf,\n",
       "  -inf,\n",
       "  1.7369655941662057,\n",
       "  3.906890595608518],\n",
       " 'B': [-inf, -inf, -inf, -inf, -inf, -inf, -inf, -inf, -inf, -inf],\n",
       " 'C': [-inf,\n",
       "  -inf,\n",
       "  -inf,\n",
       "  -inf,\n",
       "  3.906890595608518,\n",
       "  -inf,\n",
       "  3.906890595608518,\n",
       "  -inf,\n",
       "  1.7369655941662057,\n",
       "  -inf],\n",
       " 'D': [-inf, -inf, -inf, -inf, -inf, -inf, -inf, -inf, -inf, -inf],\n",
       " 'G': [-inf,\n",
       "  -inf,\n",
       "  -inf,\n",
       "  -inf,\n",
       "  -inf,\n",
       "  3.0588936890535687,\n",
       "  -inf,\n",
       "  -inf,\n",
       "  -inf,\n",
       "  -inf],\n",
       " 'H': [-inf, -inf, -inf, -inf, -inf, -inf, -inf, -inf, -inf, -inf],\n",
       " 'K': [-inf, -inf, -inf, -inf, -inf, -inf, -inf, -inf, -inf, -inf],\n",
       " 'M': [-inf, -inf, -inf, -inf, -inf, -inf, -inf, -inf, -inf, -inf],\n",
       " 'N': [-inf, -inf, -inf, -inf, -inf, -inf, -inf, -inf, -inf, -inf],\n",
       " 'R': [-inf, -inf, -inf, -inf, -inf, -inf, -inf, -inf, -inf, -inf],\n",
       " 'S': [-inf, -inf, -inf, -inf, -inf, -inf, -inf, -inf, -inf, -inf],\n",
       " 'T': [-inf,\n",
       "  -inf,\n",
       "  3.906890595608518,\n",
       "  3.906890595608518,\n",
       "  -inf,\n",
       "  1.7369655941662057,\n",
       "  -inf,\n",
       "  3.906890595608518,\n",
       "  3.0588936890535687,\n",
       "  -inf],\n",
       " 'V': [-inf, -inf, -inf, -inf, -inf, -inf, -inf, -inf, -inf, -inf],\n",
       " 'W': [-inf, -inf, -inf, -inf, -inf, -inf, -inf, -inf, -inf, -inf],\n",
       " 'Y': [-inf, -inf, -inf, -inf, -inf, -inf, -inf, -inf, -inf, -inf]}"
      ]
     },
     "execution_count": 56,
     "metadata": {},
     "output_type": "execute_result"
    }
   ],
   "source": [
    "m.pssm"
   ]
  },
  {
   "cell_type": "code",
   "execution_count": 57,
   "metadata": {
    "collapsed": false
   },
   "outputs": [
    {
     "data": {
      "text/plain": [
       "{'A': (1.0,\n",
       "  1.0,\n",
       "  0.0,\n",
       "  0.0,\n",
       "  0.0,\n",
       "  0.2222222222222222,\n",
       "  0.0,\n",
       "  0.0,\n",
       "  0.2222222222222222,\n",
       "  1.0),\n",
       " 'B': (0.0, 0.0, 0.0, 0.0, 0.0, 0.0, 0.0, 0.0, 0.0, 0.0),\n",
       " 'C': (0.0, 0.0, 0.0, 0.0, 1.0, 0.0, 1.0, 0.0, 0.2222222222222222, 0.0),\n",
       " 'D': (0.0, 0.0, 0.0, 0.0, 0.0, 0.0, 0.0, 0.0, 0.0, 0.0),\n",
       " 'G': (0.0, 0.0, 0.0, 0.0, 0.0, 0.5555555555555556, 0.0, 0.0, 0.0, 0.0),\n",
       " 'H': (0.0, 0.0, 0.0, 0.0, 0.0, 0.0, 0.0, 0.0, 0.0, 0.0),\n",
       " 'K': (0.0, 0.0, 0.0, 0.0, 0.0, 0.0, 0.0, 0.0, 0.0, 0.0),\n",
       " 'M': (0.0, 0.0, 0.0, 0.0, 0.0, 0.0, 0.0, 0.0, 0.0, 0.0),\n",
       " 'N': (0.0, 0.0, 0.0, 0.0, 0.0, 0.0, 0.0, 0.0, 0.0, 0.0),\n",
       " 'R': (0.0, 0.0, 0.0, 0.0, 0.0, 0.0, 0.0, 0.0, 0.0, 0.0),\n",
       " 'S': (0.0, 0.0, 0.0, 0.0, 0.0, 0.0, 0.0, 0.0, 0.0, 0.0),\n",
       " 'T': (0.0,\n",
       "  0.0,\n",
       "  1.0,\n",
       "  1.0,\n",
       "  0.0,\n",
       "  0.2222222222222222,\n",
       "  0.0,\n",
       "  1.0,\n",
       "  0.5555555555555556,\n",
       "  0.0),\n",
       " 'V': (0.0, 0.0, 0.0, 0.0, 0.0, 0.0, 0.0, 0.0, 0.0, 0.0),\n",
       " 'W': (0.0, 0.0, 0.0, 0.0, 0.0, 0.0, 0.0, 0.0, 0.0, 0.0),\n",
       " 'Y': (0.0, 0.0, 0.0, 0.0, 0.0, 0.0, 0.0, 0.0, 0.0, 0.0)}"
      ]
     },
     "execution_count": 57,
     "metadata": {},
     "output_type": "execute_result"
    }
   ],
   "source": [
    "m.pwm"
   ]
  }
 ],
 "metadata": {
  "kernelspec": {
   "display_name": "Python 3",
   "language": "python",
   "name": "python3"
  },
  "language_info": {
   "codemirror_mode": {
    "name": "ipython",
    "version": 3
   },
   "file_extension": ".py",
   "mimetype": "text/x-python",
   "name": "python",
   "nbconvert_exporter": "python",
   "pygments_lexer": "ipython3",
   "version": "3.5.2"
  }
 },
 "nbformat": 4,
 "nbformat_minor": 0
}
