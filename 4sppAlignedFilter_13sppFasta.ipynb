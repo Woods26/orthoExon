{
 "cells": [
  {
   "cell_type": "raw",
   "metadata": {
    "collapsed": false,
    "scrolled": true
   },
   "source": [
    "# sanity check: ensure that the number of cds per parent match pre alignment values\n",
    "for ortho in aligned_fasta:\n",
    "    for sp in species_list:\n",
    "        cds_count = 0\n",
    "        parent = gff[sp][parent_groups[ortho][sp]]\n",
    "        for cds in gff[sp].children(parent, featuretype=\"CDS\", order_by=\"start\"):\n",
    "            cds_count += 1\n",
    "        if cds_count != len(coords[ortho][sp]):\n",
    "            print(\"{} {}: pre={}, post={}\".format(ortho, sp, cds_count, len(coords[ortho][sp])))\n",
    "            \n",
    "# sanity check: ensure n's do not exist in our cds's\n",
    "cds_w_n_count = 0\n",
    "for ortho in parent_groups:\n",
    "    for sp in species_list:\n",
    "        parent = gff[sp][parent_groups[ortho][sp]]\n",
    "        seq_list = [cds.sequence(fasta[sp]) for cds in gff[sp].children(parent, featuretype=\"CDS\", order_by=\"start\")]\n",
    "        if parent.strand == '-':\n",
    "            seq_list = [cds.reverse.complement for cds in seq_list[::-1]]\n",
    "        for seq in seq_list:\n",
    "            if 'n' in seq:\n",
    "                cds_w_n_count += 1\n",
    "cds_w_n_count"
   ]
  },
  {
   "cell_type": "code",
   "execution_count": null,
   "metadata": {
    "collapsed": true
   },
   "outputs": [],
   "source": [
    "import os\n",
    "import gffutils\n",
    "from Bio.Seq import Seq\n",
    "from Bio.SeqRecord import SeqRecord\n",
    "from Bio.Alphabet import IUPAC\n",
    "import json\n",
    "from pyfaidx import Fasta\n",
    "from Bio import SeqIO\n",
    "import re\n",
    "from pprint import pprint as pp"
   ]
  },
  {
   "cell_type": "code",
   "execution_count": null,
   "metadata": {
    "collapsed": false
   },
   "outputs": [],
   "source": [
    "import pandas\n",
    "from bokeh.charts import Histogram, show\n",
    "from bokeh.io import output_notebook"
   ]
  },
  {
   "cell_type": "code",
   "execution_count": null,
   "metadata": {
    "collapsed": true
   },
   "outputs": [],
   "source": [
    "# globals\n",
    "species_list = [\"Bcur\", \"Bdor\", \"Bole\", \"Ccap\"]\n",
    "transvestigated_species_set = {'Bcor', 'Blat', 'Bzon', 'Afra', 'Bmin', 'Bjar', 'Aobl'}\n",
    "gff_path = \"./input/gff/\"\n",
    "fasta_path = \"./input/fasta/\"\n",
    "groups_fn = \"./input/groups_filtered_6181genes.txt\"\n",
    "output_path = \"./output/\"\n",
    "intermediate_path = \"./intermediate/\"\n",
    "aligned_fasta_path = \"./input/aligned_4spp_fasta/\"\n",
    "\n",
    "# gap filter parameters\n",
    "max_gap_percent = 0\n",
    "max_gap_length = 0\n",
    "# cds length filter parameters\n",
    "min_cds_length = 400\n",
    "max_cds_length = 600"
   ]
  },
  {
   "cell_type": "code",
   "execution_count": null,
   "metadata": {
    "collapsed": false
   },
   "outputs": [],
   "source": [
    "# create handles for all .db files in intermediate directory\n",
    "gff_fn = {name.split('.gff.db')[0]: intermediate_path + name for name in os.listdir(intermediate_path) if \".gff.db\" in name}\n",
    "gff = {key: gffutils.FeatureDB(value) for key, value in gff_fn.items()}\n",
    "\n",
    "# create handles for all .fasta files in fasta directory\n",
    "fasta_fn = {name.split('.nt.fasta')[0]: fasta_path + name for name in os.listdir(fasta_path) if\n",
    "         ((\".nt.fasta\" in name) and (\".nt.fasta.fai\" not in name))}\n",
    "fasta = {key: Fasta(value) for key, value in fasta_fn.items()}\n",
    "'''fasta = {}\n",
    "for sp,path in fasta_fn.items():\n",
    "    if sp in transvestigated_species_set:\n",
    "        fasta[sp] = Fasta(path, key_function = lambda x: x.split('|m.')[0])\n",
    "    else:\n",
    "        fasta[sp] = Fasta(path)'''\n",
    "        \n",
    "# import ortholog groups\n",
    "with open(intermediate_path + \"groups.json\", 'r') as f:\n",
    "    parent_groups = json.load(f)\n",
    "\n",
    "# create handles for all .fasta files in aligned_4spp_fasta directory\n",
    "aligned_fasta_fn = {name.split('.fasta')[0]: aligned_fasta_path + name for name in os.listdir(aligned_fasta_path) if\n",
    "         ((\".fasta.aln\" in name) and (\".fasta.aln.fai\" not in name))}"
   ]
  },
  {
   "cell_type": "code",
   "execution_count": null,
   "metadata": {
    "collapsed": false
   },
   "outputs": [],
   "source": [
    "# define functions to parse coordinates of cds's from concatinated aligned fasta w/ n's and -'s\n",
    "nnn = 50\n",
    "def findBreakpoints(seq):\n",
    "    breakpoints = []\n",
    "    loc = 0\n",
    "    regex = re.compile(r\"n+[-+n+]*\")\n",
    "    while(True):\n",
    "        #loc = seq.find(nnn, loc)\n",
    "        match = regex.search(seq, loc)\n",
    "        if not match:\n",
    "            break\n",
    "        if len(match.group().replace('-', '')) >= nnn:\n",
    "            breakpoints.append(match.span())\n",
    "        loc = match.end()\n",
    "    return(breakpoints)\n",
    "\n",
    "def findExonCoords(seq):\n",
    "    breakpoints = findBreakpoints(seq)\n",
    "    length = len(seq)\n",
    "\n",
    "    if len(breakpoints) == 0:\n",
    "        return([(0, length)])\n",
    "\n",
    "    if len(breakpoints) == 1:\n",
    "        bp = breakpoints[0]\n",
    "        return([(0, bp[0]), (bp[1], length)])\n",
    "\n",
    "    elif len(breakpoints) > 0:\n",
    "        exonCoords = []\n",
    "        exonCoords.append((0, breakpoints[0][0])) # first exon\n",
    "\n",
    "        for i in range(len(breakpoints) + 1)[1:-1]: # all intermediate exons\n",
    "            ex_start = breakpoints[i-1][1]\n",
    "            ex_end = breakpoints[i][0]\n",
    "            exonCoords.append((ex_start, ex_end))\n",
    "\n",
    "        exonCoords.append((breakpoints[-1][1], length)) # last exon\n",
    "        return(exonCoords)\n",
    "    \n",
    "def gapPercent(seq):\n",
    "    seq = str(seq)\n",
    "    gappedLen = len(seq)\n",
    "    gapCount = seq.count('-')\n",
    "    return( (100.0*gapCount)/gappedLen )\n",
    "\n",
    "def longestGap(seq):\n",
    "    seq = str(seq)\n",
    "    gap_regex = re.compile(r\"-+\")\n",
    "    gap_list = gap_regex.findall(seq)\n",
    "    if gap_list:\n",
    "        return(sorted([len(gap) for gap in gap_list], reverse=True)[0])\n",
    "    else:\n",
    "        return(0)"
   ]
  },
  {
   "cell_type": "code",
   "execution_count": null,
   "metadata": {
    "collapsed": false
   },
   "outputs": [],
   "source": [
    "# read and parse fasta files for each species\n",
    "aligned_fasta = {}\n",
    "for ortho in aligned_fasta_fn.keys():\n",
    "    aligned_fasta[ortho] = {seq_record.id : seq_record \n",
    "                                      for seq_record in SeqIO.parse(aligned_fasta_fn[ortho],\n",
    "                                                                    \"fasta\", alphabet=IUPAC.ambiguous_dna)}"
   ]
  },
  {
   "cell_type": "code",
   "execution_count": null,
   "metadata": {
    "collapsed": false
   },
   "outputs": [],
   "source": [
    "# parse coords from aligned fasta's\n",
    "coords = {} # coords[ortho][sp] = [coord, ]\n",
    "for ortho in aligned_fasta:\n",
    "    coords[ortho] = {}\n",
    "    for sp in species_list:\n",
    "        coords[ortho][sp] = findExonCoords(str(aligned_fasta[ortho][sp].seq))"
   ]
  },
  {
   "cell_type": "code",
   "execution_count": null,
   "metadata": {
    "collapsed": false
   },
   "outputs": [],
   "source": [
    "# Filter aligned exons\n",
    "ortho_coords = {}\n",
    "coord_index_dict = {}\n",
    "for ortho in coords:\n",
    "    ortho_coords[ortho] = {}\n",
    "    coord_index_dict[ortho] = {}\n",
    "    for sp in species_list:\n",
    "        for i in range(len(coords[ortho][sp])):\n",
    "            coord = coords[ortho][sp][i]\n",
    "\n",
    "            # filter for length\n",
    "            start, end = coord\n",
    "            length = end - start\n",
    "            if not min_cds_length <= length <= max_cds_length:\n",
    "                continue\n",
    "                \n",
    "            # filter for gap percent\n",
    "            seq = str(aligned_fasta[ortho][sp].seq[start:end])\n",
    "            if gapPercent(seq) > max_gap_percent:\n",
    "                continue\n",
    "                \n",
    "            # filter for gap length\n",
    "            if longestGap(seq) > max_gap_length:\n",
    "                continue\n",
    "\n",
    "            # populate coord_index_dict so I can find unique identifing info with ortho,sp,coord later\n",
    "            if coord not in coord_index_dict[ortho].keys():\n",
    "                coord_index_dict[ortho][coord] = {}\n",
    "            coord_index_dict[ortho][coord][sp] = i\n",
    "            \n",
    "            # prep to filter for species membership of ortho\n",
    "            if coord not in ortho_coords[ortho].keys():\n",
    "                ortho_coords[ortho][coord] = set()\n",
    "            ortho_coords[ortho][coord].add(sp)\n",
    "\n",
    "# set of coords per ortho which were represented in all species\n",
    "universal_ortho_coords = {}\n",
    "for ortho in ortho_coords:\n",
    "    for coord in ortho_coords[ortho]:\n",
    "        sp_set = ortho_coords[ortho][coord]\n",
    "        if len(sp_set) == len(species_list):\n",
    "            if ortho not in universal_ortho_coords.keys():\n",
    "                universal_ortho_coords[ortho] = set()\n",
    "            universal_ortho_coords[ortho].add(coord)     "
   ]
  },
  {
   "cell_type": "code",
   "execution_count": null,
   "metadata": {
    "collapsed": false
   },
   "outputs": [],
   "source": [
    "data = []\n",
    "for ortho in sorted(universal_ortho_coords.keys()):\n",
    "    for coord in sorted(universal_ortho_coords[ortho]):\n",
    "        start, end = coord\n",
    "        length = end - start\n",
    "        data.append((ortho, coord, length))\n",
    "\n",
    "df = pandas.DataFrame.from_records(data=data, columns=['ortho', 'coord', 'Aligned CDS Length'])\n",
    "print(\"from {} orthologs\".format(len({x[0] for x in data})))\n",
    "print(df.describe())\n",
    "\n",
    "output_notebook()\n",
    "hist = Histogram(df, values=\"Aligned CDS Length\", title=\"Aligned CDS Length Histogram\")\n",
    "show(hist)"
   ]
  },
  {
   "cell_type": "code",
   "execution_count": null,
   "metadata": {
    "collapsed": false
   },
   "outputs": [],
   "source": [
    "data = [(ortho, len(universal_ortho_coords[ortho])) for ortho in universal_ortho_coords]\n",
    "                \n",
    "df = pandas.DataFrame.from_records(data=data, columns=['ortho', 'exons per ortho'])\n",
    "print(df.describe())\n",
    "\n",
    "output_notebook()\n",
    "hist = Histogram(df, values=\"exons per ortho\", title=\"exons per ortho Histogram\")\n",
    "show(hist)"
   ]
  },
  {
   "cell_type": "code",
   "execution_count": null,
   "metadata": {
    "collapsed": false
   },
   "outputs": [],
   "source": [
    "fasta_prep = {}\n",
    "for ortho in universal_ortho_coords:\n",
    "    fasta_prep[ortho] = {}\n",
    "    cds_list = {}\n",
    "    for coord in universal_ortho_coords[ortho]:\n",
    "        fasta_prep[ortho][coord] = {}\n",
    "        for sp in species_list:\n",
    "            if sp not in cds_list.keys():\n",
    "                parent = gff[sp][parent_groups[ortho][sp]]\n",
    "                cds_list[sp] = [cds for cds in gff[sp].children(parent, featuretype=\"CDS\", order_by=\"start\")]\n",
    "\n",
    "            index = coord_index_dict[ortho][coord][sp]\n",
    "            cds = cds_list[sp][index]\n",
    "            fasta_prep[ortho][coord][sp] = cds"
   ]
  },
  {
   "cell_type": "code",
   "execution_count": null,
   "metadata": {
    "collapsed": false
   },
   "outputs": [],
   "source": [
    "\n",
    "nnn = Seq(\"nnnnnnnnnnnnnnnnnnnnnnnnnnnnnnnnnnnnnnnnnnnnnnnnnn\", IUPAC.ambiguous_dna)\n",
    "for ortho in fasta_prep:\n",
    "    for coord in fasta_prep[ortho]:\n",
    "        with open(output_path + ortho + \"_\" + str(coord[0]) + \"-\" + str(coord[1]) + \".13spp.fasta\", \"w\") as f:\n",
    "            for sp in species_list:\n",
    "                cds = fasta_prep[ortho][coord][sp]\n",
    "                start,end = coord\n",
    "                seq = nnn + aligned_fasta[ortho][sp].seq[start:end] + nnn\n",
    "                seqReq = SeqRecord(seq, id=sp, description=cds.id)\n",
    "                f.write(seqReq.format(\"fasta\"))\n",
    "                \n",
    "            for sp in sorted(parent_groups[ortho]):\n",
    "                if sp in species_list:\n",
    "                    continue\n",
    "                parent = gff[sp][parent_groups[ortho][sp]]\n",
    "                strand = parent.strand\n",
    "                cds_list = [cds for cds in gff[sp].children(parent, featuretype=\"CDS\", order_by=\"start\")]\n",
    "                cat_seq = Seq(\"\", IUPAC.ambiguous_dna)\n",
    "                for cds in cds_list:\n",
    "                    if sp in transvestigated_species_set:\n",
    "                        seq = Seq(str(fasta[sp][parent_groups[ortho][sp]]), IUPAC.ambiguous_dna)\n",
    "                        cds_len = cds.end - cds.start\n",
    "                        if cds_len + 1 == len(seq):\n",
    "                            cat_seq += seq\n",
    "                        else:\n",
    "                            print(\"{} {} {} {} {}\".format(ortho, sp, coord, cds_len, len(seq)))\n",
    "                    else:\n",
    "                        cat_seq += Seq(str(cds.sequence(fasta=fasta[sp], use_strand=False)), IUPAC.ambiguous_dna)\n",
    "                            \n",
    "                    #cat_seq += Seq(fasta[sp][cds.chrom][cds.start:cds.end].seq, IUPAC.ambiguous_dna)\n",
    "                if strand == '-':\n",
    "                    cat_seq = cat_seq.reverse_complement()\n",
    "                seqReq = SeqRecord(cat_seq, id=sp, description=parent.id)\n",
    "                f.write(seqReq.format(\"fasta\"))"
   ]
  }
 ],
 "metadata": {
  "kernelspec": {
   "display_name": "Python 3",
   "language": "python",
   "name": "python3"
  },
  "language_info": {
   "codemirror_mode": {
    "name": "ipython",
    "version": 3
   },
   "file_extension": ".py",
   "mimetype": "text/x-python",
   "name": "python",
   "nbconvert_exporter": "python",
   "pygments_lexer": "ipython3",
   "version": "3.5.2"
  }
 },
 "nbformat": 4,
 "nbformat_minor": 0
}
