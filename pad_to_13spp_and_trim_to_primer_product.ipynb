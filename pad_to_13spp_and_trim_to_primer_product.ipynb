{
 "cells": [
  {
   "cell_type": "code",
   "execution_count": 1,
   "metadata": {
    "collapsed": false
   },
   "outputs": [],
   "source": [
    "import os\n",
    "import gffutils\n",
    "from Bio.Seq import Seq\n",
    "from Bio.SeqRecord import SeqRecord\n",
    "from Bio.Alphabet import IUPAC\n",
    "import json\n",
    "from pyfaidx import Fasta\n",
    "from Bio import SeqIO\n",
    "import re\n",
    "from pprint import pprint as pp"
   ]
  },
  {
   "cell_type": "code",
   "execution_count": 2,
   "metadata": {
    "collapsed": true
   },
   "outputs": [],
   "source": [
    "full_species_list = ['Bjar', 'Aobl', 'Bmin', 'Asus', 'Btry', 'Afra', 'Blat', 'Bzon', 'Bcor', 'Ccap', 'Bcur', 'Bole', 'Bdor']\n",
    "species_list = [\"Bcur\", \"Bdor\", \"Bole\", \"Ccap\"]\n",
    "transvestigated_species_set = {'Bcor', 'Blat', 'Bzon', 'Afra', 'Bmin', 'Bjar', 'Aobl'}\n",
    "gff_path = \"./input/gff/\"\n",
    "fasta_path = \"./input/fasta/\"\n",
    "groups_fn = \"./input/groups_filtered_6181genes.txt\"\n",
    "output_path = \"./output/\"\n",
    "input_path = \"./input/\"\n",
    "intermediate_path = \"./intermediate/\"\n",
    "aligned_fasta_path = \"./intermediate/13spp_aligned_trimmed_filtered_fasta/\"\n",
    "p3_out_path = \"./input/p3out_200_600_MaxNs2_lowerTM/\""
   ]
  },
  {
   "cell_type": "code",
   "execution_count": 3,
   "metadata": {
    "collapsed": false
   },
   "outputs": [
    {
     "name": "stdout",
     "output_type": "stream",
     "text": [
      "{'Afra': ['Asus', 'Aobl', 'Ccap'],\n",
      " 'Aobl': ['Afra', 'Asus', 'Ccap'],\n",
      " 'Asus': ['Afra', 'Aobl', 'Ccap'],\n",
      " 'Bcor': ['Bzon', 'Bdor'],\n",
      " 'Bjar': ['Btry', 'Blat', 'Bdor'],\n",
      " 'Blat': ['Bdor'],\n",
      " 'Bmin': ['Bole'],\n",
      " 'Btry': ['Bjar', 'Blat', 'Bdor'],\n",
      " 'Bzon': ['Bcor', 'Bdor']}\n"
     ]
    }
   ],
   "source": [
    "with open(input_path + \"alternate_sp.json\", 'r') as f:\n",
    "    alternate_sp = json.load(f)\n",
    "pp(alternate_sp)"
   ]
  },
  {
   "cell_type": "code",
   "execution_count": 4,
   "metadata": {
    "collapsed": false
   },
   "outputs": [],
   "source": [
    "# create handles for all .fasta files in fasta directory\n",
    "fasta_fn = {name.split('.13spp.fasta')[0]: aligned_fasta_path + name for name in os.listdir(aligned_fasta_path) if\n",
    "         ((\".13spp.fasta\" in name) and (\".13spp.fasta.fai\" not in name))}"
   ]
  },
  {
   "cell_type": "code",
   "execution_count": 5,
   "metadata": {
    "collapsed": false
   },
   "outputs": [],
   "source": [
    "# read and parse fasta files for each species\n",
    "fasta = {}\n",
    "for ortho in fasta_fn.keys():\n",
    "    fasta[ortho] = {seq_record.id : seq_record \n",
    "                                      for seq_record in SeqIO.parse(fasta_fn[ortho],\n",
    "                                                                    \"fasta\", alphabet=IUPAC.ambiguous_dna)}"
   ]
  },
  {
   "cell_type": "code",
   "execution_count": 6,
   "metadata": {
    "collapsed": false
   },
   "outputs": [
    {
     "data": {
      "text/plain": [
       "{'orth10028_686-1116': (138, 303),\n",
       " 'orth10262_574-1105': (218, 467),\n",
       " 'orth10315_1281-1727': (151, 312),\n",
       " 'orth10339_505-906': (150, 318),\n",
       " 'orth10425_0-403': (74, 301),\n",
       " 'orth10425_453-875': (117, 306),\n",
       " 'orth2462_53-471': (72, 354),\n",
       " 'orth2544_667-1171': (189, 433),\n",
       " 'orth2553_637-1195': (179, 346),\n",
       " 'orth2566_1289-1740': (91, 290),\n",
       " 'orth2612_715-1187': (24, 405),\n",
       " 'orth2616_2941-3434': (121, 409),\n",
       " 'orth2645_196-696': (71, 404),\n",
       " 'orth2765_1666-2131': (206, 363),\n",
       " 'orth2872_268-817': (254, 456),\n",
       " 'orth2884_2067-2578': (84, 362),\n",
       " 'orth2894_628-1207': (20, 200),\n",
       " 'orth2923_57-459': (171, 362),\n",
       " 'orth2935_486-1024': (129, 292),\n",
       " 'orth2955_2160-2617': (273, 429),\n",
       " 'orth3092_555-1082': (27, 469),\n",
       " 'orth3129_389-852': (44, 337),\n",
       " 'orth3465_0-564': (123, 383),\n",
       " 'orth3556_678-1151': (153, 424),\n",
       " 'orth3682_81-506': (44, 344),\n",
       " 'orth3696_1155-1653': (126, 303),\n",
       " 'orth3767_964-1531': (333, 507),\n",
       " 'orth3814_815-1335': (56, 324),\n",
       " 'orth3819_0-468': (21, 228),\n",
       " 'orth3835_0-577': (50, 387),\n",
       " 'orth3862_768-1245': (106, 268),\n",
       " 'orth3864_1755-2219': (82, 393),\n",
       " 'orth3940_53-644': (52, 538),\n",
       " 'orth3955_2209-2719': (147, 315),\n",
       " 'orth3973_238-815': (33, 385),\n",
       " 'orth3991_338-757': (73, 269),\n",
       " 'orth4020_82-539': (138, 380),\n",
       " 'orth4054_248-811': (290, 461),\n",
       " 'orth4102_1646-2162': (38, 306),\n",
       " 'orth4121_206-666': (163, 411),\n",
       " 'orth4188_359-865': (22, 257),\n",
       " 'orth4209_972-1407': (27, 320),\n",
       " 'orth4281_1069-1483': (197, 378),\n",
       " 'orth4283_472-933': (40, 324),\n",
       " 'orth4326_0-480': (151, 456),\n",
       " 'orth4354_1213-1754': (89, 419),\n",
       " 'orth4354_2057-2467': (59, 243),\n",
       " 'orth4375_107-596': (34, 310),\n",
       " 'orth4432_1749-2215': (194, 444),\n",
       " 'orth4497_730-1158': (68, 236),\n",
       " 'orth4574_3056-3631': (393, 555),\n",
       " 'orth4628_846-1306': (107, 363),\n",
       " 'orth4678_410-876': (55, 424),\n",
       " 'orth4714_1109-1532': (38, 199),\n",
       " 'orth4736_129-635': (255, 446),\n",
       " 'orth4762_62-632': (151, 345),\n",
       " 'orth4820_495-913': (159, 362),\n",
       " 'orth4878_0-475': (36, 225),\n",
       " 'orth4890_520-957': (173, 337),\n",
       " 'orth4962_280-736': (43, 241),\n",
       " 'orth4984_5844-6440': (215, 384),\n",
       " 'orth4990_2593-3170': (219, 408),\n",
       " 'orth4992_398-967': (78, 371),\n",
       " 'orth5036_1469-1877': (170, 334),\n",
       " 'orth5045_1973-2503': (172, 493),\n",
       " 'orth5071_293-822': (22, 236),\n",
       " 'orth5094_0-435': (155, 348),\n",
       " 'orth5137_610-1069': (32, 419),\n",
       " 'orth5180_346-761': (224, 384),\n",
       " 'orth5198_370-775': (178, 385),\n",
       " 'orth5231_1984-2464': (199, 413),\n",
       " 'orth5277_1851-2400': (158, 477),\n",
       " 'orth5282_111-683': (154, 546),\n",
       " 'orth5432_231-663': (97, 290),\n",
       " 'orth5432_713-1219': (87, 290),\n",
       " 'orth5478_332-823': (165, 407),\n",
       " 'orth5478_873-1316': (40, 420),\n",
       " 'orth5489_191-637': (59, 307),\n",
       " 'orth5522_258-786': (121, 345),\n",
       " 'orth5561_548-968': (73, 282),\n",
       " 'orth5677_2277-2735': (131, 363),\n",
       " 'orth5766_3486-3921': (32, 237),\n",
       " 'orth5772_2851-3297': (20, 424),\n",
       " 'orth5803_0-465': (51, 321),\n",
       " 'orth5822_170-572': (103, 372),\n",
       " 'orth5842_0-480': (54, 220),\n",
       " 'orth5854_912-1460': (136, 391),\n",
       " 'orth5855_198-775': (367, 534),\n",
       " 'orth5860_379-883': (289, 465),\n",
       " 'orth5948_933-1413': (77, 280),\n",
       " 'orth5987_2705-3146': (130, 352),\n",
       " 'orth6000_0-432': (227, 402),\n",
       " 'orth6089_1834-2370': (64, 329),\n",
       " 'orth6334_293-870': (199, 497),\n",
       " 'orth6403_384-860': (121, 454),\n",
       " 'orth6403_910-1316': (83, 340),\n",
       " 'orth6419_175-650': (91, 440),\n",
       " 'orth6437_1612-2024': (59, 338),\n",
       " 'orth6458_3194-3618': (216, 401),\n",
       " 'orth6458_68-583': (71, 468),\n",
       " 'orth6477_1940-2498': (38, 244),\n",
       " 'orth6507_796-1234': (32, 227),\n",
       " 'orth6512_1863-2264': (165, 329),\n",
       " 'orth6519_0-578': (173, 468),\n",
       " 'orth6575_395-796': (111, 283),\n",
       " 'orth6659_1565-2023': (78, 305),\n",
       " 'orth6738_968-1388': (48, 274),\n",
       " 'orth6743_890-1482': (165, 492),\n",
       " 'orth6774_896-1447': (226, 483),\n",
       " 'orth6863_875-1349': (147, 364),\n",
       " 'orth6933_1649-2196': (42, 286),\n",
       " 'orth6967_168-659': (85, 420),\n",
       " 'orth6993_0-565': (38, 391),\n",
       " 'orth7059_455-885': (150, 364),\n",
       " 'orth7078_1187-1689': (65, 337),\n",
       " 'orth7104_0-552': (155, 417),\n",
       " 'orth7123_1197-1627': (113, 305),\n",
       " 'orth7135_722-1217': (93, 390),\n",
       " 'orth7139_137-698': (86, 412),\n",
       " 'orth7204_510-991': (107, 306),\n",
       " 'orth7205_1276-1713': (118, 282),\n",
       " 'orth7205_96-575': (63, 460),\n",
       " 'orth7211_68-584': (87, 456),\n",
       " 'orth7235_659-1096': (34, 364),\n",
       " 'orth7332_242-749': (94, 485),\n",
       " 'orth7369_571-989': (29, 250),\n",
       " 'orth7419_152-565': (114, 391),\n",
       " 'orth7533_424-919': (98, 412),\n",
       " 'orth7587_0-417': (197, 384),\n",
       " 'orth7593_754-1208': (202, 393),\n",
       " 'orth7614_343-769': (26, 310),\n",
       " 'orth7615_1070-1562': (87, 323),\n",
       " 'orth7851_632-1080': (135, 295),\n",
       " 'orth7898_4453-4866': (46, 263),\n",
       " 'orth7993_851-1424': (41, 429),\n",
       " 'orth8048_80-563': (155, 329),\n",
       " 'orth8057_375-789': (98, 260),\n",
       " 'orth8090_611-1073': (128, 378),\n",
       " 'orth8171_1720-2151': (47, 347),\n",
       " 'orth8213_538-1111': (249, 421),\n",
       " 'orth8248_1329-1921': (219, 399),\n",
       " 'orth8277_1779-2253': (28, 213),\n",
       " 'orth8304_166-657': (24, 430),\n",
       " 'orth8331_723-1127': (108, 274),\n",
       " 'orth8373_654-1074': (155, 396),\n",
       " 'orth8390_0-538': (50, 249),\n",
       " 'orth8426_0-579': (39, 299),\n",
       " 'orth8533_1224-1665': (182, 419),\n",
       " 'orth8589_697-1251': (35, 285),\n",
       " 'orth8598_3094-3544': (107, 310),\n",
       " 'orth8713_158-707': (110, 384),\n",
       " 'orth8720_0-564': (66, 250),\n",
       " 'orth8728_3368-3797': (138, 391),\n",
       " 'orth8791_0-568': (98, 511),\n",
       " 'orth8826_1769-2187': (205, 384),\n",
       " 'orth8902_764-1334': (154, 419),\n",
       " 'orth8909_662-1067': (28, 221),\n",
       " 'orth8926_1277-1720': (99, 369),\n",
       " 'orth8933_385-795': (160, 342),\n",
       " 'orth9022_508-940': (179, 404),\n",
       " 'orth9032_150-710': (257, 451),\n",
       " 'orth9331_772-1178': (184, 350),\n",
       " 'orth9355_1350-1774': (23, 183),\n",
       " 'orth9406_372-792': (232, 393),\n",
       " 'orth9407_84-663': (46, 221),\n",
       " 'orth9420_162-722': (253, 495),\n",
       " 'orth9427_0-519': (164, 418),\n",
       " 'orth9431_5795-6340': (179, 345),\n",
       " 'orth9448_0-521': (55, 258),\n",
       " 'orth9457_2550-3047': (96, 448),\n",
       " 'orth9580_1104-1528': (27, 321),\n",
       " 'orth9701_0-468': (135, 444),\n",
       " 'orth9723_2067-2556': (117, 440),\n",
       " 'orth9802_1065-1490': (147, 314),\n",
       " 'orth9840_92-632': (346, 519),\n",
       " 'orth9904_238-748': (27, 306),\n",
       " 'orth9929_0-441': (215, 409)}"
      ]
     },
     "execution_count": 6,
     "metadata": {},
     "output_type": "execute_result"
    }
   ],
   "source": [
    "primer = {}\n",
    "for p3_out_fn in os.listdir(p3_out_path):\n",
    "    ortho = p3_out_fn.split('.degenerate.p3.out')[0]\n",
    "    with open(p3_out_path + p3_out_fn, 'r') as f:\n",
    "        lines = f.readlines()\n",
    "        lines = [line.strip().split('=') for line in lines]\n",
    "        lines = {key:value for key,value in lines if key is not ''}\n",
    "        if lines['PRIMER_PAIR_NUM_RETURNED'] is not '0':\n",
    "            test = lines\n",
    "            left,l_len = lines['PRIMER_LEFT_0'].split(',')\n",
    "            right,r_len = lines['PRIMER_RIGHT_0'].split(',')\n",
    "            start = int(left) + int(l_len)\n",
    "            end = int(right) - int(r_len) + 1\n",
    "            primer[ortho] = (start,end)\n",
    "primer"
   ]
  },
  {
   "cell_type": "code",
   "execution_count": 7,
   "metadata": {
    "collapsed": false,
    "scrolled": true
   },
   "outputs": [
    {
     "data": {
      "text/plain": [
       "{'PRIMER_INTERNAL_NUM_RETURNED': '0',\n",
       " 'PRIMER_LEFT_0': '195,20',\n",
       " 'PRIMER_LEFT_0_END_STABILITY': '3.9600',\n",
       " 'PRIMER_LEFT_0_GC_PERCENT': '52.632',\n",
       " 'PRIMER_LEFT_0_HAIRPIN_TH': '0.00',\n",
       " 'PRIMER_LEFT_0_PENALTY': '0.780121',\n",
       " 'PRIMER_LEFT_0_SELF_ANY_TH': '19.57',\n",
       " 'PRIMER_LEFT_0_SELF_END_TH': '5.34',\n",
       " 'PRIMER_LEFT_0_SEQUENCE': 'TCRCACACCTATCGCATGCA',\n",
       " 'PRIMER_LEFT_0_TM': '55.220',\n",
       " 'PRIMER_LEFT_1': '194,21',\n",
       " 'PRIMER_LEFT_1_END_STABILITY': '3.9600',\n",
       " 'PRIMER_LEFT_1_GC_PERCENT': '50.000',\n",
       " 'PRIMER_LEFT_1_HAIRPIN_TH': '0.00',\n",
       " 'PRIMER_LEFT_1_PENALTY': '1.013615',\n",
       " 'PRIMER_LEFT_1_SELF_ANY_TH': '19.57',\n",
       " 'PRIMER_LEFT_1_SELF_END_TH': '5.34',\n",
       " 'PRIMER_LEFT_1_SEQUENCE': 'TTCRCACACCTATCGCATGCA',\n",
       " 'PRIMER_LEFT_1_TM': '56.014',\n",
       " 'PRIMER_LEFT_2': '195,20',\n",
       " 'PRIMER_LEFT_2_END_STABILITY': '3.9600',\n",
       " 'PRIMER_LEFT_2_GC_PERCENT': '52.632',\n",
       " 'PRIMER_LEFT_2_HAIRPIN_TH': '0.00',\n",
       " 'PRIMER_LEFT_2_PENALTY': '0.780121',\n",
       " 'PRIMER_LEFT_2_SELF_ANY_TH': '19.57',\n",
       " 'PRIMER_LEFT_2_SELF_END_TH': '5.34',\n",
       " 'PRIMER_LEFT_2_SEQUENCE': 'TCRCACACCTATCGCATGCA',\n",
       " 'PRIMER_LEFT_2_TM': '55.220',\n",
       " 'PRIMER_LEFT_3': '190,21',\n",
       " 'PRIMER_LEFT_3_END_STABILITY': '5.1000',\n",
       " 'PRIMER_LEFT_3_GC_PERCENT': '55.000',\n",
       " 'PRIMER_LEFT_3_HAIRPIN_TH': '0.00',\n",
       " 'PRIMER_LEFT_3_PENALTY': '1.036310',\n",
       " 'PRIMER_LEFT_3_SELF_ANY_TH': '0.00',\n",
       " 'PRIMER_LEFT_3_SELF_END_TH': '0.00',\n",
       " 'PRIMER_LEFT_3_SEQUENCE': 'CACCTTCRCACACCTATCGCA',\n",
       " 'PRIMER_LEFT_3_TM': '56.036',\n",
       " 'PRIMER_LEFT_4': '196,20',\n",
       " 'PRIMER_LEFT_4_END_STABILITY': '4.4100',\n",
       " 'PRIMER_LEFT_4_GC_PERCENT': '57.895',\n",
       " 'PRIMER_LEFT_4_HAIRPIN_TH': '0.00',\n",
       " 'PRIMER_LEFT_4_PENALTY': '1.064656',\n",
       " 'PRIMER_LEFT_4_SELF_ANY_TH': '10.78',\n",
       " 'PRIMER_LEFT_4_SELF_END_TH': '3.55',\n",
       " 'PRIMER_LEFT_4_SEQUENCE': 'CRCACACCTATCGCATGCAG',\n",
       " 'PRIMER_LEFT_4_TM': '54.935',\n",
       " 'PRIMER_LEFT_NUM_RETURNED': '5',\n",
       " 'PRIMER_LIBERAL_BASE': '1',\n",
       " 'PRIMER_MAX_NS_ACCEPTED': '2',\n",
       " 'PRIMER_MAX_TM': '60',\n",
       " 'PRIMER_MIN_TM': '53',\n",
       " 'PRIMER_OPT_TM': '56',\n",
       " 'PRIMER_PAIR_0_COMPL_ANY_TH': '0.00',\n",
       " 'PRIMER_PAIR_0_COMPL_END_TH': '0.00',\n",
       " 'PRIMER_PAIR_0_PENALTY': '2.646863',\n",
       " 'PRIMER_PAIR_0_PRODUCT_SIZE': '235',\n",
       " 'PRIMER_PAIR_1_COMPL_ANY_TH': '0.00',\n",
       " 'PRIMER_PAIR_1_COMPL_END_TH': '0.00',\n",
       " 'PRIMER_PAIR_1_PENALTY': '2.880357',\n",
       " 'PRIMER_PAIR_1_PRODUCT_SIZE': '236',\n",
       " 'PRIMER_PAIR_2_COMPL_ANY_TH': '0.00',\n",
       " 'PRIMER_PAIR_2_COMPL_END_TH': '0.00',\n",
       " 'PRIMER_PAIR_2_PENALTY': '2.884152',\n",
       " 'PRIMER_PAIR_2_PRODUCT_SIZE': '236',\n",
       " 'PRIMER_PAIR_3_COMPL_ANY_TH': '0.00',\n",
       " 'PRIMER_PAIR_3_COMPL_END_TH': '0.00',\n",
       " 'PRIMER_PAIR_3_PENALTY': '2.903052',\n",
       " 'PRIMER_PAIR_3_PRODUCT_SIZE': '240',\n",
       " 'PRIMER_PAIR_4_COMPL_ANY_TH': '0.00',\n",
       " 'PRIMER_PAIR_4_COMPL_END_TH': '0.00',\n",
       " 'PRIMER_PAIR_4_PENALTY': '2.931398',\n",
       " 'PRIMER_PAIR_4_PRODUCT_SIZE': '234',\n",
       " 'PRIMER_PAIR_NUM_RETURNED': '5',\n",
       " 'PRIMER_PRODUCT_SIZE_RANGE': '200-600',\n",
       " 'PRIMER_RIGHT_0': '429,21',\n",
       " 'PRIMER_RIGHT_0_END_STABILITY': '3.1100',\n",
       " 'PRIMER_RIGHT_0_GC_PERCENT': '57.895',\n",
       " 'PRIMER_RIGHT_0_HAIRPIN_TH': '46.67',\n",
       " 'PRIMER_RIGHT_0_PENALTY': '1.866742',\n",
       " 'PRIMER_RIGHT_0_SELF_ANY_TH': '0.00',\n",
       " 'PRIMER_RIGHT_0_SELF_END_TH': '0.00',\n",
       " 'PRIMER_RIGHT_0_SEQUENCE': 'TGGCRCTGTCCTTRCGAAAGG',\n",
       " 'PRIMER_RIGHT_0_TM': '55.133',\n",
       " 'PRIMER_RIGHT_1': '429,21',\n",
       " 'PRIMER_RIGHT_1_END_STABILITY': '3.1100',\n",
       " 'PRIMER_RIGHT_1_GC_PERCENT': '57.895',\n",
       " 'PRIMER_RIGHT_1_HAIRPIN_TH': '46.67',\n",
       " 'PRIMER_RIGHT_1_PENALTY': '1.866742',\n",
       " 'PRIMER_RIGHT_1_SELF_ANY_TH': '0.00',\n",
       " 'PRIMER_RIGHT_1_SELF_END_TH': '0.00',\n",
       " 'PRIMER_RIGHT_1_SEQUENCE': 'TGGCRCTGTCCTTRCGAAAGG',\n",
       " 'PRIMER_RIGHT_1_TM': '55.133',\n",
       " 'PRIMER_RIGHT_2': '430,22',\n",
       " 'PRIMER_RIGHT_2_END_STABILITY': '3.1100',\n",
       " 'PRIMER_RIGHT_2_GC_PERCENT': '55.000',\n",
       " 'PRIMER_RIGHT_2_HAIRPIN_TH': '46.67',\n",
       " 'PRIMER_RIGHT_2_PENALTY': '2.104031',\n",
       " 'PRIMER_RIGHT_2_SELF_ANY_TH': '0.00',\n",
       " 'PRIMER_RIGHT_2_SELF_END_TH': '0.00',\n",
       " 'PRIMER_RIGHT_2_SEQUENCE': 'TTGGCRCTGTCCTTRCGAAAGG',\n",
       " 'PRIMER_RIGHT_2_TM': '55.896',\n",
       " 'PRIMER_RIGHT_3': '429,21',\n",
       " 'PRIMER_RIGHT_3_END_STABILITY': '3.1100',\n",
       " 'PRIMER_RIGHT_3_GC_PERCENT': '57.895',\n",
       " 'PRIMER_RIGHT_3_HAIRPIN_TH': '46.67',\n",
       " 'PRIMER_RIGHT_3_PENALTY': '1.866742',\n",
       " 'PRIMER_RIGHT_3_SELF_ANY_TH': '0.00',\n",
       " 'PRIMER_RIGHT_3_SELF_END_TH': '0.00',\n",
       " 'PRIMER_RIGHT_3_SEQUENCE': 'TGGCRCTGTCCTTRCGAAAGG',\n",
       " 'PRIMER_RIGHT_3_TM': '55.133',\n",
       " 'PRIMER_RIGHT_4': '429,21',\n",
       " 'PRIMER_RIGHT_4_END_STABILITY': '3.1100',\n",
       " 'PRIMER_RIGHT_4_GC_PERCENT': '57.895',\n",
       " 'PRIMER_RIGHT_4_HAIRPIN_TH': '46.67',\n",
       " 'PRIMER_RIGHT_4_PENALTY': '1.866742',\n",
       " 'PRIMER_RIGHT_4_SELF_ANY_TH': '0.00',\n",
       " 'PRIMER_RIGHT_4_SELF_END_TH': '0.00',\n",
       " 'PRIMER_RIGHT_4_SEQUENCE': 'TGGCRCTGTCCTTRCGAAAGG',\n",
       " 'PRIMER_RIGHT_4_TM': '55.133',\n",
       " 'PRIMER_RIGHT_NUM_RETURNED': '5',\n",
       " 'PRIMER_THERMODYNAMIC_PARAMETERS_PATH': '/data0/opt/Primer3/primer3-2.3.6/src/primer3_config/',\n",
       " 'PRIMER_WARNING': 'Unrecognized base in input sequence',\n",
       " 'SEQUENCE_ID': 'orth9929_0-441',\n",
       " 'SEQUENCE_TEMPLATE': 'ATGGCTTTTATGRTGCCHGTCATGAAGAAYAAYTACGAYATCTAYAAGGAYAGTCGTTCRCGMAAAACATCRGARTGCTCBACVACYAGYTCRAATGGTGGCGCMCCYACRYTGTCWTCYGCCATGGGTGTRCCRBCYAATGSMCGYGTNCGCAARGTRTCHGARTGCAARTCSGAGAGYTTYGCYACHTCACCTTCRCACACCTATCGCATGCAGATGCARCGYTGTCARTCATCRCGCGCCTTTCCYCGYAACGCATCGCGWACYTCRCACTCDTCDGCSGCWGGNGCWCTBTCGCCWACVCGKTCYTTYAGCCARKCCTCMAGYCCRCCMAAGACMATDAAYACRRYGGARAGCCARAAYGATATYACGAAATTTCATTTRCGHYTKGTYGAYAARCTRCGYAAGTCCTTTCGYAAGGACAGYGCCAARCGBTCATGA'}"
      ]
     },
     "execution_count": 7,
     "metadata": {},
     "output_type": "execute_result"
    }
   ],
   "source": [
    "test"
   ]
  },
  {
   "cell_type": "code",
   "execution_count": 8,
   "metadata": {
    "collapsed": false
   },
   "outputs": [
    {
     "name": "stdout",
     "output_type": "stream",
     "text": [
      "TCRCACACCTATCGCATGCA\n",
      "TCRCACACCTATCGCATGCA\n",
      "CCTTTCGYAAGGACAGYGCCA\n",
      "CCTTTCGYAAGGACAGYGCCA\n",
      "GATGCARCGYTGTCARTCATCRCGCGCCTTTCCYCGYAACGCATCGCGWACYTCRCACTCDTCDGCSGCWGGNGCWCTBTCGCCWACVCGKTCYTTYAGCCARKCCTCMAGYCCRCCMAAGACMATDAAYACRRYGGARAGCCARAAYGATATYACGAAATTTCATTTRCGHYTKGTYGAYAARCTRCGYAAGT\n",
      "194\n",
      "235\n"
     ]
    }
   ],
   "source": [
    "# sanity check for indicies\n",
    "\n",
    "print(Seq(test['PRIMER_LEFT_0_SEQUENCE'], alphabet=IUPAC.ambiguous_dna))\n",
    "\n",
    "print(Seq(test['SEQUENCE_TEMPLATE'], alphabet=IUPAC.ambiguous_dna)[int(left):int(left) + int(l_len)])\n",
    "\n",
    "print(Seq(test['PRIMER_RIGHT_0_SEQUENCE'], alphabet=IUPAC.ambiguous_dna).reverse_complement())\n",
    "\n",
    "print(Seq(test['SEQUENCE_TEMPLATE'], alphabet=IUPAC.ambiguous_dna)[int(right) - int(r_len)+1:int(right)+1])\n",
    "\n",
    "print(Seq(test['SEQUENCE_TEMPLATE'], alphabet=IUPAC.ambiguous_dna)[int(left) + int(l_len):int(right) - int(r_len)+1])\n",
    "\n",
    "print(len(Seq(test['SEQUENCE_TEMPLATE'], alphabet=IUPAC.ambiguous_dna)[int(left) + int(l_len):int(right) - int(r_len)+1]))\n",
    "\n",
    "print(test['PRIMER_PAIR_0_PRODUCT_SIZE'])"
   ]
  },
  {
   "cell_type": "code",
   "execution_count": 9,
   "metadata": {
    "collapsed": true
   },
   "outputs": [],
   "source": [
    "trimmed_fasta = {ortho:{sp:fasta[ortho][sp][start:end] for sp in fasta[ortho]}}"
   ]
  },
  {
   "cell_type": "code",
   "execution_count": 10,
   "metadata": {
    "collapsed": false
   },
   "outputs": [],
   "source": [
    "from copy import deepcopy\n",
    "padded_fasta = {}\n",
    "trimmed_fasta = {}\n",
    "for ortho in fasta.keys():\n",
    "    if ortho in primer.keys():\n",
    "        start,end = primer[ortho]\n",
    "    else:\n",
    "        continue\n",
    "    padding = {}\n",
    "    for sp in full_species_list:\n",
    "        if sp not in fasta[ortho].keys():\n",
    "            for alt_sp in alternate_sp[sp]:\n",
    "                if alt_sp in fasta[ortho].keys():\n",
    "                    seq = fasta[ortho][alt_sp].seq[start:end]\n",
    "                    des = fasta[ortho][alt_sp].description\n",
    "                    des = \"PADDING \" + des\n",
    "                    padding[sp] = SeqRecord(seq, id=sp, description=des)\n",
    "                    break\n",
    "    trimmed_fasta[ortho] = {sp:fasta[ortho][sp][start:end] for sp in fasta[ortho]}\n",
    "    padded_fasta[ortho] = padding\n",
    "    padded_fasta[ortho].update(trimmed_fasta[ortho])"
   ]
  },
  {
   "cell_type": "code",
   "execution_count": 11,
   "metadata": {
    "collapsed": false
   },
   "outputs": [
    {
     "data": {
      "text/plain": [
       "{8, 9, 10, 11, 12, 13}"
      ]
     },
     "execution_count": 11,
     "metadata": {},
     "output_type": "execute_result"
    }
   ],
   "source": [
    "{len(trimmed_fasta[ortho]) for ortho in trimmed_fasta.keys()}"
   ]
  },
  {
   "cell_type": "code",
   "execution_count": 12,
   "metadata": {
    "collapsed": false
   },
   "outputs": [
    {
     "data": {
      "text/plain": [
       "{13}"
      ]
     },
     "execution_count": 12,
     "metadata": {},
     "output_type": "execute_result"
    }
   ],
   "source": [
    "{len(padded_fasta[ortho]) for ortho in padded_fasta.keys()}"
   ]
  },
  {
   "cell_type": "code",
   "execution_count": 13,
   "metadata": {
    "collapsed": true
   },
   "outputs": [],
   "source": [
    "sp_order = { 'Bcur':1,\n",
    "             'Bdor':2,\n",
    "             'Bole':3,\n",
    "             'Ccap':4,\n",
    "             'Bcor':5,\n",
    "             'Blat':6,\n",
    "             'Bzon':7,\n",
    "             'Afra':8,\n",
    "             'Bmin':9,\n",
    "             'Bjar':10,\n",
    "             'Aobl':11,\n",
    "             'Asus':12,\n",
    "             'Btry':13}"
   ]
  },
  {
   "cell_type": "code",
   "execution_count": 14,
   "metadata": {
    "collapsed": false
   },
   "outputs": [],
   "source": [
    "# output fasta to pre_padding_species.json\n",
    "with open(intermediate_path + \"pre_padding_species.json\", 'w') as f:\n",
    "    json.dump({ortho:[sp for sp in trimmed_fasta[ortho]] for ortho in trimmed_fasta}, f)"
   ]
  },
  {
   "cell_type": "code",
   "execution_count": 15,
   "metadata": {
    "collapsed": false
   },
   "outputs": [],
   "source": [
    "for ortho in trimmed_fasta.keys():\n",
    "    with open(output_path + \"trimmed_fasta/\" + ortho + \".13spp.fasta\", \"w\") as f:\n",
    "        for seqReq in sorted(trimmed_fasta[ortho].values(), key=lambda x: sp_order[x.id]):\n",
    "            f.write(seqReq.format(\"fasta\"))"
   ]
  },
  {
   "cell_type": "code",
   "execution_count": 16,
   "metadata": {
    "collapsed": true
   },
   "outputs": [],
   "source": [
    "for ortho in padded_fasta.keys():\n",
    "    with open(output_path + \"padded_fasta/\" + ortho + \".13spp.fasta\", \"w\") as f:\n",
    "        for seqReq in sorted(padded_fasta[ortho].values(), key=lambda x: sp_order[x.id]):\n",
    "            f.write(seqReq.format(\"fasta\"))"
   ]
  }
 ],
 "metadata": {
  "kernelspec": {
   "display_name": "Python 3",
   "language": "python",
   "name": "python3"
  },
  "language_info": {
   "codemirror_mode": {
    "name": "ipython",
    "version": 3
   },
   "file_extension": ".py",
   "mimetype": "text/x-python",
   "name": "python",
   "nbconvert_exporter": "python",
   "pygments_lexer": "ipython3",
   "version": "3.5.2"
  }
 },
 "nbformat": 4,
 "nbformat_minor": 0
}
